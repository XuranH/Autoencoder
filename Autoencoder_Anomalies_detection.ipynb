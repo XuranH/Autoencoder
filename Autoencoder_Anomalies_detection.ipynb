{
  "cells": [
    {
      "cell_type": "markdown",
      "source": [
        "Our code is referring to the following pages:\n",
        "\n",
        "https://blog.keras.io/building-autoencoders-in-keras.html\n",
        "\n",
        "\n",
        "https://github.com/a-agmon/anomaly_det/blob/master/AnomalyDetectorsVAE-KDD-original.ipynb\n",
        "\n"
      ],
      "metadata": {
        "id": "qKAqnHxrdOPn"
      }
    },
    {
      "cell_type": "code",
      "execution_count": null,
      "metadata": {
        "id": "RoglxQhgFavW"
      },
      "outputs": [],
      "source": [
        "from tensorflow.keras.optimizers import Adam\n",
        "from tensorflow.keras.datasets import mnist\n",
        "from sklearn.model_selection import train_test_split\n",
        "import matplotlib.pyplot as plt\n",
        "import numpy as np\n",
        "import pandas as pd\n",
        "import argparse\n",
        "import random\n",
        "import pickle\n",
        "import cv2\n",
        "import matplotlib.pyplot as plt\n",
        "from tensorflow.keras import backend as K\n",
        "from tensorflow.keras.layers import Lambda, Input, Dense\n",
        "from tensorflow.keras.models import Model, load_model\n",
        "from tensorflow.keras import optimizers\n",
        "import tensorflow as tf\n",
        "tf.compat.v1.disable_eager_execution()\n",
        "import keras\n",
        "from keras import layers\n",
        "from sklearn.metrics import classification_report\n",
        "from sklearn.metrics import confusion_matrix\n",
        "from tensorflow.keras import callbacks"
      ]
    },
    {
      "cell_type": "markdown",
      "metadata": {
        "id": "155vAHZX1FB9"
      },
      "source": [
        "Import Minist dataset"
      ]
    },
    {
      "cell_type": "code",
      "execution_count": null,
      "metadata": {
        "id": "sbhjUdHo0F8_"
      },
      "outputs": [],
      "source": [
        "from keras.datasets import mnist\n",
        "import numpy as np\n",
        "(x_train, y_train), (x_test, y_test) = mnist.load_data()"
      ]
    },
    {
      "cell_type": "code",
      "execution_count": null,
      "metadata": {
        "colab": {
          "base_uri": "https://localhost:8080/"
        },
        "id": "WBUm1gLG05xB",
        "outputId": "34d91a2c-2cc8-4e60-c581-8ea60d57a43d"
      },
      "outputs": [
        {
          "name": "stdout",
          "output_type": "stream",
          "text": [
            "(60000, 28, 28)\n",
            "(10000, 28, 28)\n"
          ]
        }
      ],
      "source": [
        "print(x_train.shape)\n",
        "print(x_test.shape)"
      ]
    },
    {
      "cell_type": "markdown",
      "metadata": {
        "id": "w0Zs2hUF06nI"
      },
      "source": [
        "Create the function build_X_Y() to build the training set and test set in the case where the training set contains some outliers. "
      ]
    },
    {
      "cell_type": "code",
      "execution_count": null,
      "metadata": {
        "id": "_TCA5tk32OYn"
      },
      "outputs": [],
      "source": [
        "def build_X_Y(data, labels, validLabel, anomalyLabel, contam):\n",
        "# Find the ValidLabel  \n",
        "  validIdxs = np.where(np.isin(labels,[validLabel]))[0]\n",
        "  X_norm = data[validIdxs]\n",
        "  Y_norm = labels[validIdxs]\n",
        "\n",
        "# We remain only a proportion of anomalies (defined as contam)\n",
        "  len_attack = len(X_norm)*contam \n",
        "\n",
        "# Find the Anomalies \n",
        "  attackIdxs = np.where(labels == anomalyLabel)[0]\n",
        "  X_attack = data[attackIdxs]\n",
        "  Y_attack = labels[attackIdxs]\n",
        "  X_attack = X_attack[:int(len_attack)]\n",
        "  Y_attack = Y_attack[:int(len_attack)]\n",
        "\n",
        "  X_data = np.concatenate([X_norm, X_attack])\n",
        "  Y_data = np.concatenate([Y_norm, Y_attack])\n",
        "\n",
        "  return X_data, Y_data"
      ]
    },
    {
      "cell_type": "markdown",
      "metadata": {
        "id": "InRUFoGo4_a_"
      },
      "source": [
        "Parameters' explanations of build_X_Y()\n",
        "\n",
        "*   ***data***: the pixel of the images in x_train or x_test\n",
        "*   ***labels***: the label of each image, as known as y_train or y_test of the original data. \n",
        "*   ***validLabel***: labels of the normal image that we chose. You can enter a single value or multiple values. If you want to enter multiple values, you have to put \",\" to seperate them. (e.g. 1,2,3)\n",
        "*   ***anomalyLabel***: label of the outlier that we chose\n",
        "*   ***contam***: ratio of anomlies to normal images\n",
        "\n",
        "\n",
        "\n"
      ]
    },
    {
      "cell_type": "markdown",
      "metadata": {
        "id": "v2omZBfj1JLo"
      },
      "source": [
        "Output of build_X_Y()\n",
        "\n",
        "\n",
        "*   ***X_data***: the set of the images contamed with some outliers\n",
        "*   ***Y_data***: label of the X_data\n",
        "\n",
        "\n",
        "\n"
      ]
    },
    {
      "cell_type": "markdown",
      "metadata": {
        "id": "6ao9gpp9kJyJ"
      },
      "source": [
        "Create the function build_X_train_nocontam() to build the training set without outliers "
      ]
    },
    {
      "cell_type": "code",
      "execution_count": null,
      "metadata": {
        "id": "6NLGCF8aiNSR"
      },
      "outputs": [],
      "source": [
        "def build_X_train_nocontam(data, labels, validLabel):\n",
        "   \n",
        "   validIdxs = np.where(np.isin(labels,[validLabel]))[0]\n",
        "   X_norm = data[validIdxs]\n",
        "   Y_norm = labels[validIdxs]\n",
        "   \n",
        "   return X_norm, Y_norm "
      ]
    },
    {
      "cell_type": "markdown",
      "metadata": {
        "id": "qGqjXFx9ktAp"
      },
      "source": [
        "Parameters' explanations of build_X_train_nocontam()\n",
        "\n",
        "*   ***data***: the pixel of the images in x_train\n",
        "*   ***labels***: the label of each image, as known as y_train of the original data.\n",
        "\n",
        "\n",
        "*   ***validLabel***: labels of the normal images that we chose. You can enter a single value or multiple values. If you want to enter multiple values, you have to put \",\" to seperate them. (e.g. 1,2,3)\n"
      ]
    },
    {
      "cell_type": "markdown",
      "metadata": {
        "id": "dKXODoHg2-4L"
      },
      "source": [
        "## ValidLabel = 1 v.s. AnomalLabel = 8"
      ]
    },
    {
      "cell_type": "markdown",
      "metadata": {
        "id": "sgJzipkX4UGH"
      },
      "source": [
        "### Construction of training set and test set"
      ]
    },
    {
      "cell_type": "code",
      "execution_count": null,
      "metadata": {
        "id": "aJw-ifXr3UeP"
      },
      "outputs": [],
      "source": [
        "validLabel=1\n",
        "anomalyLabel=8\n",
        "contam=0.05"
      ]
    },
    {
      "cell_type": "markdown",
      "metadata": {
        "id": "0YufzO9LZpP7"
      },
      "source": [
        "Build training set"
      ]
    },
    {
      "cell_type": "markdown",
      "metadata": {
        "id": "rqEPngzbhXcz"
      },
      "source": [
        "Case1: A small proportion of outliers in the training set"
      ]
    },
    {
      "cell_type": "code",
      "execution_count": null,
      "metadata": {
        "id": "VcSYuqQx68EE"
      },
      "outputs": [],
      "source": [
        "# Training set with a little outliers\n",
        "(X_train_contam, Y_train) = build_X_Y(x_train,y_train,validLabel,anomalyLabel,contam=0.05)"
      ]
    },
    {
      "cell_type": "code",
      "execution_count": null,
      "metadata": {
        "colab": {
          "base_uri": "https://localhost:8080/"
        },
        "id": "RQdd43aS7FCV",
        "outputId": "ae41bfd8-fa64-4fab-fb37-f592f5d63b5e"
      },
      "outputs": [
        {
          "output_type": "stream",
          "name": "stdout",
          "text": [
            "(7079, 28, 28)\n"
          ]
        }
      ],
      "source": [
        "print(X_train_contam.shape)"
      ]
    },
    {
      "cell_type": "markdown",
      "metadata": {
        "id": "NZm7428_iE6C"
      },
      "source": [
        "Case 2: No outliers in the training set"
      ]
    },
    {
      "cell_type": "code",
      "execution_count": null,
      "metadata": {
        "colab": {
          "base_uri": "https://localhost:8080/"
        },
        "id": "wNxiZE7HiJ1R",
        "outputId": "5929e243-2403-494a-ce71-b71697c44ce5"
      },
      "outputs": [
        {
          "output_type": "stream",
          "name": "stdout",
          "text": [
            "(6742, 28, 28)\n"
          ]
        }
      ],
      "source": [
        "X_train_norm, Y_train_norm = build_X_train_nocontam(x_train,y_train,validLabel)\n",
        "print(X_train_norm.shape)"
      ]
    },
    {
      "cell_type": "markdown",
      "metadata": {
        "id": "PPAHI8vJZtje"
      },
      "source": [
        "Build test set"
      ]
    },
    {
      "cell_type": "code",
      "execution_count": null,
      "metadata": {
        "id": "jTqMM6_wz2NY"
      },
      "outputs": [],
      "source": [
        "# Test set\n",
        "(X_test, Y_test) = build_X_Y(x_test,y_test,validLabel,anomalyLabel,contam=0.05)"
      ]
    },
    {
      "cell_type": "code",
      "execution_count": null,
      "metadata": {
        "colab": {
          "base_uri": "https://localhost:8080/"
        },
        "id": "Sr1-T5hb0hxI",
        "outputId": "c2aedf6b-5627-40a7-8566-43848d8ec99d"
      },
      "outputs": [
        {
          "output_type": "stream",
          "name": "stdout",
          "text": [
            "(1191, 28, 28)\n",
            "(1191,)\n"
          ]
        }
      ],
      "source": [
        "print(X_test.shape)\n",
        "print(Y_test.shape)"
      ]
    },
    {
      "cell_type": "markdown",
      "metadata": {
        "id": "Wunvr02fgHkJ"
      },
      "source": [
        "*Noted that contam=0.05 in the two functions, meaning that anormalies account for 5% of the normal data in both training set and test set. "
      ]
    },
    {
      "cell_type": "markdown",
      "metadata": {
        "id": "N4nGpA9SMOkQ"
      },
      "source": [
        "Nomorlize the pixel and flatten the images"
      ]
    },
    {
      "cell_type": "code",
      "execution_count": null,
      "metadata": {
        "id": "ISZb7HIxJbGQ"
      },
      "outputs": [],
      "source": [
        "def normal_img(train_X,train_X_normal,test_X):\n",
        "  X_train = train_X.astype('float32') / 255.\n",
        "  X_normal = train_X_normal.astype('float32') / 255.\n",
        "  X_test = test_X.astype('float32') / 255.\n",
        "  \n",
        "  X_train = X_train.reshape(len(X_train), np.prod(X_train.shape[1:]))\n",
        "  X_normal = X_normal.reshape(len(X_normal), np.prod(X_normal.shape[1:]))\n",
        "  X_test = X_test.reshape(len(X_test), np.prod(X_test.shape[1:]))\n",
        "  return X_train, X_normal, X_test"
      ]
    },
    {
      "cell_type": "code",
      "execution_count": null,
      "metadata": {
        "colab": {
          "base_uri": "https://localhost:8080/"
        },
        "id": "pBsig6pepr8f",
        "outputId": "1f18675d-7dc9-400c-df02-28197d3468e5"
      },
      "outputs": [
        {
          "output_type": "stream",
          "name": "stdout",
          "text": [
            "(7079, 784)\n",
            "(6742, 784)\n",
            "(1191, 784)\n"
          ]
        }
      ],
      "source": [
        "(X_train_contam, X_train_norm, X_test) = normal_img(X_train_contam, X_train_norm, X_test)\n",
        "\n",
        "print(X_train_contam.shape)\n",
        "print(X_train_norm.shape)\n",
        "print(X_test.shape)"
      ]
    },
    {
      "cell_type": "markdown",
      "metadata": {
        "id": "FFeGnDBE-6HK"
      },
      "source": [
        "### Simple autoencoder"
      ]
    },
    {
      "cell_type": "code",
      "execution_count": null,
      "metadata": {
        "id": "k6295cWmGXnh"
      },
      "outputs": [],
      "source": [
        "def simple_autoencoder(X_train, X_test, epochs):\n",
        " # This is the size of our encoded representations\n",
        " encoding_dim = 32  # 32 floats -> compression of factor 24.5, assuming the input is 784 floats\n",
        "\n",
        " # This is our input image\n",
        " input_img = keras.Input(shape=(784,))\n",
        " # \"encoded\" is the encoded representation of the input\n",
        " encoded = layers.Dense(encoding_dim, activation='relu')(input_img)\n",
        " # \"decoded\" is the lossy reconstruction of the input\n",
        " decoded = layers.Dense(784, activation='sigmoid')(encoded)\n",
        "\n",
        " # This model maps an input to its reconstruction\n",
        " autoencoder = keras.Model(input_img, decoded)\n",
        "\n",
        "\n",
        " # This model maps an input to its encoded representation\n",
        " encoder = keras.Model(input_img, encoded)\n",
        "\n",
        " # This is our encoded (32-dimensional) input\n",
        " encoded_input = keras.Input(shape=(encoding_dim,))\n",
        " # Retrieve the last layer of the autoencoder model\n",
        " decoder_layer = autoencoder.layers[-1]\n",
        " # Create the decoder model\n",
        " decoder = keras.Model(encoded_input, decoder_layer(encoded_input))\n",
        "\n",
        " # We'll configure our model to use a per-pixel binary crossentropy loss, and the Adam optimizer:\n",
        " autoencoder.compile(optimizer='adam', loss='binary_crossentropy')\n",
        "\n",
        " # result of training only the normal data\n",
        " result_simple_1 = autoencoder.fit(X_train, X_train,\n",
        "                epochs=epochs,\n",
        "                batch_size=256,\n",
        "                shuffle=True,\n",
        "                validation_data=(X_test, X_test))\n",
        "\n",
        " plt.plot(result_simple_1.history['loss'])\n",
        " plt.title('model loss')\n",
        " plt.ylabel('loss')\n",
        " plt.xlabel('epoch')\n",
        " plt.legend(['train', 'test'], loc='upper right');\n",
        " plt.show()\n",
        "\n",
        " # Encode and decode some digits\n",
        " # Note that we take them from the *test* set\n",
        " encoded_imgs = encoder.predict(X_test)\n",
        " decoded_imgs = decoder.predict(encoded_imgs)\n",
        " return decoded_imgs "
      ]
    },
    {
      "cell_type": "markdown",
      "metadata": {
        "id": "fRUsLhtls-Nq"
      },
      "source": [
        "### We first train the data without outliers (X_train_norm)"
      ]
    },
    {
      "cell_type": "code",
      "execution_count": null,
      "metadata": {
        "colab": {
          "base_uri": "https://localhost:8080/",
          "height": 1000
        },
        "id": "IV7fzuR1Z2_t",
        "outputId": "16900124-de23-464f-c05d-5d2891bda914"
      },
      "outputs": [
        {
          "output_type": "stream",
          "name": "stdout",
          "text": [
            "Train on 6742 samples, validate on 1191 samples\n",
            "Epoch 1/70\n",
            "6400/6742 [===========================>..] - ETA: 0s - loss: 0.5851"
          ]
        },
        {
          "output_type": "stream",
          "name": "stderr",
          "text": [
            "/usr/local/lib/python3.7/dist-packages/keras/engine/training_v1.py:2057: UserWarning: `Model.state_updates` will be removed in a future version. This property should not be used in TensorFlow 2.0, as `updates` are applied automatically.\n",
            "  updates = self.state_updates\n"
          ]
        },
        {
          "output_type": "stream",
          "name": "stdout",
          "text": [
            "6742/6742 [==============================] - 2s 228us/sample - loss: 0.5742 - val_loss: 0.3393\n",
            "Epoch 2/70\n",
            "6742/6742 [==============================] - 0s 50us/sample - loss: 0.2062 - val_loss: 0.1593\n",
            "Epoch 3/70\n",
            "6742/6742 [==============================] - 0s 49us/sample - loss: 0.1285 - val_loss: 0.1330\n",
            "Epoch 4/70\n",
            "6742/6742 [==============================] - 0s 46us/sample - loss: 0.1086 - val_loss: 0.1158\n",
            "Epoch 5/70\n",
            "6742/6742 [==============================] - 0s 51us/sample - loss: 0.0971 - val_loss: 0.1067\n",
            "Epoch 6/70\n",
            "6742/6742 [==============================] - 0s 47us/sample - loss: 0.0909 - val_loss: 0.1006\n",
            "Epoch 7/70\n",
            "6742/6742 [==============================] - 0s 48us/sample - loss: 0.0864 - val_loss: 0.0958\n",
            "Epoch 8/70\n",
            "6742/6742 [==============================] - 0s 49us/sample - loss: 0.0831 - val_loss: 0.0928\n",
            "Epoch 9/70\n",
            "6742/6742 [==============================] - 0s 49us/sample - loss: 0.0807 - val_loss: 0.0904\n",
            "Epoch 10/70\n",
            "6742/6742 [==============================] - 0s 46us/sample - loss: 0.0790 - val_loss: 0.0885\n",
            "Epoch 11/70\n",
            "6742/6742 [==============================] - 0s 49us/sample - loss: 0.0774 - val_loss: 0.0867\n",
            "Epoch 12/70\n",
            "6742/6742 [==============================] - 0s 49us/sample - loss: 0.0757 - val_loss: 0.0845\n",
            "Epoch 13/70\n",
            "6742/6742 [==============================] - 0s 50us/sample - loss: 0.0736 - val_loss: 0.0819\n",
            "Epoch 14/70\n",
            "6742/6742 [==============================] - 0s 50us/sample - loss: 0.0711 - val_loss: 0.0791\n",
            "Epoch 15/70\n",
            "6742/6742 [==============================] - 0s 49us/sample - loss: 0.0686 - val_loss: 0.0766\n",
            "Epoch 16/70\n",
            "6742/6742 [==============================] - 0s 48us/sample - loss: 0.0665 - val_loss: 0.0747\n",
            "Epoch 17/70\n",
            "6742/6742 [==============================] - 0s 48us/sample - loss: 0.0648 - val_loss: 0.0732\n",
            "Epoch 18/70\n",
            "6742/6742 [==============================] - 0s 47us/sample - loss: 0.0634 - val_loss: 0.0719\n",
            "Epoch 19/70\n",
            "6742/6742 [==============================] - 0s 48us/sample - loss: 0.0622 - val_loss: 0.0707\n",
            "Epoch 20/70\n",
            "6742/6742 [==============================] - 0s 51us/sample - loss: 0.0611 - val_loss: 0.0697\n",
            "Epoch 21/70\n",
            "6742/6742 [==============================] - 0s 48us/sample - loss: 0.0601 - val_loss: 0.0687\n",
            "Epoch 22/70\n",
            "6742/6742 [==============================] - 0s 47us/sample - loss: 0.0592 - val_loss: 0.0679\n",
            "Epoch 23/70\n",
            "6742/6742 [==============================] - 0s 50us/sample - loss: 0.0584 - val_loss: 0.0672\n",
            "Epoch 24/70\n",
            "6742/6742 [==============================] - 0s 48us/sample - loss: 0.0577 - val_loss: 0.0666\n",
            "Epoch 25/70\n",
            "6742/6742 [==============================] - 0s 48us/sample - loss: 0.0571 - val_loss: 0.0659\n",
            "Epoch 26/70\n",
            "6742/6742 [==============================] - 0s 50us/sample - loss: 0.0564 - val_loss: 0.0653\n",
            "Epoch 27/70\n",
            "6742/6742 [==============================] - 0s 49us/sample - loss: 0.0558 - val_loss: 0.0647\n",
            "Epoch 28/70\n",
            "6742/6742 [==============================] - 0s 46us/sample - loss: 0.0552 - val_loss: 0.0641\n",
            "Epoch 29/70\n",
            "6742/6742 [==============================] - 0s 52us/sample - loss: 0.0547 - val_loss: 0.0636\n",
            "Epoch 30/70\n",
            "6742/6742 [==============================] - 0s 50us/sample - loss: 0.0541 - val_loss: 0.0631\n",
            "Epoch 31/70\n",
            "6742/6742 [==============================] - 0s 52us/sample - loss: 0.0536 - val_loss: 0.0626\n",
            "Epoch 32/70\n",
            "6742/6742 [==============================] - 0s 48us/sample - loss: 0.0531 - val_loss: 0.0622\n",
            "Epoch 33/70\n",
            "6742/6742 [==============================] - 0s 50us/sample - loss: 0.0526 - val_loss: 0.0617\n",
            "Epoch 34/70\n",
            "6742/6742 [==============================] - 0s 48us/sample - loss: 0.0522 - val_loss: 0.0613\n",
            "Epoch 35/70\n",
            "6742/6742 [==============================] - 0s 49us/sample - loss: 0.0517 - val_loss: 0.0609\n",
            "Epoch 36/70\n",
            "6742/6742 [==============================] - 0s 49us/sample - loss: 0.0514 - val_loss: 0.0606\n",
            "Epoch 37/70\n",
            "6742/6742 [==============================] - 0s 47us/sample - loss: 0.0510 - val_loss: 0.0602\n",
            "Epoch 38/70\n",
            "6742/6742 [==============================] - 0s 51us/sample - loss: 0.0506 - val_loss: 0.0599\n",
            "Epoch 39/70\n",
            "6742/6742 [==============================] - 0s 50us/sample - loss: 0.0503 - val_loss: 0.0596\n",
            "Epoch 40/70\n",
            "6742/6742 [==============================] - 0s 49us/sample - loss: 0.0500 - val_loss: 0.0594\n",
            "Epoch 41/70\n",
            "6742/6742 [==============================] - 0s 48us/sample - loss: 0.0497 - val_loss: 0.0591\n",
            "Epoch 42/70\n",
            "6742/6742 [==============================] - 0s 51us/sample - loss: 0.0495 - val_loss: 0.0588\n",
            "Epoch 43/70\n",
            "6742/6742 [==============================] - 0s 49us/sample - loss: 0.0492 - val_loss: 0.0586\n",
            "Epoch 44/70\n",
            "6742/6742 [==============================] - 0s 49us/sample - loss: 0.0490 - val_loss: 0.0583\n",
            "Epoch 45/70\n",
            "6742/6742 [==============================] - 0s 50us/sample - loss: 0.0488 - val_loss: 0.0581\n",
            "Epoch 46/70\n",
            "6742/6742 [==============================] - 0s 49us/sample - loss: 0.0485 - val_loss: 0.0579\n",
            "Epoch 47/70\n",
            "6742/6742 [==============================] - 0s 49us/sample - loss: 0.0483 - val_loss: 0.0577\n",
            "Epoch 48/70\n",
            "6742/6742 [==============================] - 0s 51us/sample - loss: 0.0481 - val_loss: 0.0575\n",
            "Epoch 49/70\n",
            "6742/6742 [==============================] - 0s 49us/sample - loss: 0.0479 - val_loss: 0.0573\n",
            "Epoch 50/70\n",
            "6742/6742 [==============================] - 0s 48us/sample - loss: 0.0478 - val_loss: 0.0572\n",
            "Epoch 51/70\n",
            "6742/6742 [==============================] - 0s 48us/sample - loss: 0.0476 - val_loss: 0.0570\n",
            "Epoch 52/70\n",
            "6742/6742 [==============================] - 0s 49us/sample - loss: 0.0474 - val_loss: 0.0568\n",
            "Epoch 53/70\n",
            "6742/6742 [==============================] - 0s 48us/sample - loss: 0.0472 - val_loss: 0.0566\n",
            "Epoch 54/70\n",
            "6742/6742 [==============================] - 0s 50us/sample - loss: 0.0471 - val_loss: 0.0565\n",
            "Epoch 55/70\n",
            "6742/6742 [==============================] - 0s 49us/sample - loss: 0.0469 - val_loss: 0.0563\n",
            "Epoch 56/70\n",
            "6742/6742 [==============================] - 0s 48us/sample - loss: 0.0467 - val_loss: 0.0562\n",
            "Epoch 57/70\n",
            "6742/6742 [==============================] - 0s 48us/sample - loss: 0.0466 - val_loss: 0.0560\n",
            "Epoch 58/70\n",
            "6742/6742 [==============================] - 0s 45us/sample - loss: 0.0464 - val_loss: 0.0559\n",
            "Epoch 59/70\n",
            "6742/6742 [==============================] - 0s 50us/sample - loss: 0.0463 - val_loss: 0.0557\n",
            "Epoch 60/70\n",
            "6742/6742 [==============================] - 0s 48us/sample - loss: 0.0461 - val_loss: 0.0556\n",
            "Epoch 61/70\n",
            "6742/6742 [==============================] - 0s 50us/sample - loss: 0.0460 - val_loss: 0.0555\n",
            "Epoch 62/70\n",
            "6742/6742 [==============================] - 0s 47us/sample - loss: 0.0459 - val_loss: 0.0554\n",
            "Epoch 63/70\n",
            "6742/6742 [==============================] - 0s 47us/sample - loss: 0.0457 - val_loss: 0.0552\n",
            "Epoch 64/70\n",
            "6742/6742 [==============================] - 0s 50us/sample - loss: 0.0456 - val_loss: 0.0551\n",
            "Epoch 65/70\n",
            "6742/6742 [==============================] - 0s 48us/sample - loss: 0.0455 - val_loss: 0.0550\n",
            "Epoch 66/70\n",
            "6742/6742 [==============================] - 0s 47us/sample - loss: 0.0453 - val_loss: 0.0550\n",
            "Epoch 67/70\n",
            "6742/6742 [==============================] - 0s 48us/sample - loss: 0.0452 - val_loss: 0.0548\n",
            "Epoch 68/70\n",
            "6742/6742 [==============================] - 0s 48us/sample - loss: 0.0451 - val_loss: 0.0547\n",
            "Epoch 69/70\n",
            "6742/6742 [==============================] - 0s 47us/sample - loss: 0.0450 - val_loss: 0.0546\n",
            "Epoch 70/70\n",
            "6742/6742 [==============================] - 0s 49us/sample - loss: 0.0449 - val_loss: 0.0545\n"
          ]
        },
        {
          "output_type": "display_data",
          "data": {
            "image/png": "[encoded data removed]",
            "text/plain": [
              "<Figure size 432x288 with 1 Axes>"
            ]
          },
          "metadata": {
            "needs_background": "light"
          }
        },
        {
          "output_type": "stream",
          "name": "stderr",
          "text": [
            "/usr/local/lib/python3.7/dist-packages/keras/engine/training_v1.py:2079: UserWarning: `Model.state_updates` will be removed in a future version. This property should not be used in TensorFlow 2.0, as `updates` are applied automatically.\n",
            "  updates=self.state_updates,\n"
          ]
        }
      ],
      "source": [
        "decoded_imgs = simple_autoencoder(X_train_norm,X_test,70)"
      ]
    },
    {
      "cell_type": "code",
      "execution_count": null,
      "metadata": {
        "id": "nexVhzgawgDj"
      },
      "outputs": [],
      "source": [
        "# Measure the error between the reconstruction and the original image\n",
        "def cal_mse(reconstruction,original):\n",
        "  mse = np.mean((reconstruction - original) ** 2,axis=1)\n",
        "  return mse"
      ]
    },
    {
      "cell_type": "code",
      "execution_count": null,
      "metadata": {
        "colab": {
          "base_uri": "https://localhost:8080/"
        },
        "id": "ZJmznwlpwf__",
        "outputId": "55da1514-fd6a-4a3c-debb-da28af2c3e6d"
      },
      "outputs": [
        {
          "output_type": "stream",
          "name": "stdout",
          "text": [
            "[INFO] mse threshold: 0.02793895825743655\n",
            "[INFO] 57 outliers found\n"
          ]
        }
      ],
      "source": [
        "mse_s=cal_mse(decoded_imgs,X_test)\n",
        "\n",
        "#Define the anomaly threshold by 1/(1+contam), 1/(1+contam) is the proportion of the normal data in the whole test set\n",
        "thresh = np.quantile(mse_s, 1/(1+contam))\n",
        "idxs = np.where(np.array(mse_s) >= thresh)[0]\n",
        "print(\"[INFO] mse threshold: {}\".format(thresh))\n",
        "print(\"[INFO] {} outliers found\".format(len(idxs)))"
      ]
    },
    {
      "cell_type": "code",
      "execution_count": null,
      "metadata": {
        "colab": {
          "base_uri": "https://localhost:8080/"
        },
        "id": "WGvGJljswvzx",
        "outputId": "436ae8ce-2287-4c07-922f-03560e7f0376"
      },
      "outputs": [
        {
          "output_type": "execute_result",
          "data": {
            "text/plain": [
              "array([1, 1, 1, ..., 8, 8, 8])"
            ]
          },
          "metadata": {},
          "execution_count": 235
        }
      ],
      "source": [
        "# Predicted Y\n",
        "Y_pred = np.array([1]*len(Y_test))\n",
        "Y_pred[idxs] = 8 \n",
        "Y_pred"
      ]
    },
    {
      "cell_type": "code",
      "execution_count": null,
      "metadata": {
        "colab": {
          "base_uri": "https://localhost:8080/"
        },
        "id": "vckWD4A5xOC5",
        "outputId": "603f830c-ebcf-4e23-d7f6-86bd15e1002c"
      },
      "outputs": [
        {
          "output_type": "stream",
          "name": "stdout",
          "text": [
            "[[1131    4]\n",
            " [   3   53]]\n",
            "              precision    recall  f1-score   support\n",
            "\n",
            "           1       1.00      1.00      1.00      1135\n",
            "           8       0.93      0.95      0.94        56\n",
            "\n",
            "    accuracy                           0.99      1191\n",
            "   macro avg       0.96      0.97      0.97      1191\n",
            "weighted avg       0.99      0.99      0.99      1191\n",
            "\n"
          ]
        }
      ],
      "source": [
        "print(confusion_matrix(Y_test, Y_pred))\n",
        "print(classification_report(Y_test, Y_pred))"
      ]
    },
    {
      "cell_type": "markdown",
      "metadata": {
        "id": "I80YsPd228MR"
      },
      "source": [
        "Recall_8 = 0.95 measures the proportion of success detection. Among 56 outliers, we can find about 96% outliers by our simple autoencoder model quite good!"
      ]
    },
    {
      "cell_type": "code",
      "execution_count": null,
      "metadata": {
        "id": "SERdcL-kxPPX"
      },
      "outputs": [],
      "source": [
        "# See the false predicted images\n",
        "def false_image(predict_Y,real_Y,real_X):\n",
        "  idxs_false = np.where(real_Y != predict_Y)[0]\n",
        "\n",
        "  n = len(idxs_false)  # How many digits we will display\n",
        "  plt.figure(figsize=(20, 4))\n",
        "  for i in range(n):\n",
        "    # Display original,row_num represent that how many rows of images you want when displaying the images\n",
        "    ax = plt.subplot(2, n, i + 1)\n",
        "    plt.imshow(real_X[idxs_false[i]].reshape(28, 28))\n",
        "    plt.gray()\n",
        "    ax.get_xaxis().set_visible(False)\n",
        "    ax.get_yaxis().set_visible(False)\n",
        "    \n",
        "    # Display reconstruction\n",
        "    ax = plt.subplot(2, n, i + 1 + n)\n",
        "    plt.imshow(decoded_imgs[idxs_false[i]].reshape(28, 28))\n",
        "    plt.gray()\n",
        "    ax.get_xaxis().set_visible(False)\n",
        "    ax.get_yaxis().set_visible(False)\n",
        "  plt.show()"
      ]
    },
    {
      "cell_type": "code",
      "execution_count": null,
      "metadata": {
        "colab": {
          "base_uri": "https://localhost:8080/",
          "height": 252
        },
        "id": "3D8QM7VaxVSx",
        "outputId": "3be9a850-e14a-48a5-ed5d-a275882d4725"
      },
      "outputs": [
        {
          "output_type": "display_data",
          "data": {
            "image/png": "[encoded data removed]",
            "text/plain": [
              "<Figure size 1440x288 with 14 Axes>"
            ]
          },
          "metadata": {
            "needs_background": "light"
          }
        }
      ],
      "source": [
        " plot_s = false_image(Y_pred,Y_test,X_test)"
      ]
    },
    {
      "cell_type": "markdown",
      "metadata": {
        "id": "xLBZW4d7j0Lr"
      },
      "source": [
        "### We then train the data with outliers (X_train_contam)"
      ]
    },
    {
      "cell_type": "code",
      "execution_count": null,
      "metadata": {
        "colab": {
          "base_uri": "https://localhost:8080/",
          "height": 1000
        },
        "id": "5gX_uYudbx5h",
        "outputId": "f1aa74a9-130e-4e9c-a985-f0cb9aae1c83"
      },
      "outputs": [
        {
          "output_type": "stream",
          "name": "stdout",
          "text": [
            "Train on 7079 samples, validate on 1191 samples\n",
            "Epoch 1/50\n",
            "6912/7079 [============================>.] - ETA: 0s - loss: 0.5731"
          ]
        },
        {
          "output_type": "stream",
          "name": "stderr",
          "text": [
            "/usr/local/lib/python3.7/dist-packages/keras/engine/training_v1.py:2057: UserWarning: `Model.state_updates` will be removed in a future version. This property should not be used in TensorFlow 2.0, as `updates` are applied automatically.\n",
            "  updates = self.state_updates\n"
          ]
        },
        {
          "output_type": "stream",
          "name": "stdout",
          "text": [
            "7079/7079 [==============================] - 1s 207us/sample - loss: 0.5677 - val_loss: 0.3350\n",
            "Epoch 2/50\n",
            "7079/7079 [==============================] - 0s 44us/sample - loss: 0.2144 - val_loss: 0.1518\n",
            "Epoch 3/50\n",
            "7079/7079 [==============================] - 0s 46us/sample - loss: 0.1365 - val_loss: 0.1191\n",
            "Epoch 4/50\n",
            "7079/7079 [==============================] - 0s 48us/sample - loss: 0.1115 - val_loss: 0.1016\n",
            "Epoch 5/50\n",
            "7079/7079 [==============================] - 0s 46us/sample - loss: 0.0987 - val_loss: 0.0931\n",
            "Epoch 6/50\n",
            "7079/7079 [==============================] - 0s 48us/sample - loss: 0.0919 - val_loss: 0.0881\n",
            "Epoch 7/50\n",
            "7079/7079 [==============================] - 0s 49us/sample - loss: 0.0877 - val_loss: 0.0848\n",
            "Epoch 8/50\n",
            "7079/7079 [==============================] - 0s 47us/sample - loss: 0.0847 - val_loss: 0.0821\n",
            "Epoch 9/50\n",
            "7079/7079 [==============================] - 0s 48us/sample - loss: 0.0823 - val_loss: 0.0800\n",
            "Epoch 10/50\n",
            "7079/7079 [==============================] - 0s 48us/sample - loss: 0.0803 - val_loss: 0.0782\n",
            "Epoch 11/50\n",
            "7079/7079 [==============================] - 0s 45us/sample - loss: 0.0786 - val_loss: 0.0766\n",
            "Epoch 12/50\n",
            "7079/7079 [==============================] - 0s 46us/sample - loss: 0.0770 - val_loss: 0.0752\n",
            "Epoch 13/50\n",
            "7079/7079 [==============================] - 0s 50us/sample - loss: 0.0757 - val_loss: 0.0738\n",
            "Epoch 14/50\n",
            "7079/7079 [==============================] - 0s 48us/sample - loss: 0.0744 - val_loss: 0.0727\n",
            "Epoch 15/50\n",
            "7079/7079 [==============================] - 0s 47us/sample - loss: 0.0732 - val_loss: 0.0715\n",
            "Epoch 16/50\n",
            "7079/7079 [==============================] - 0s 49us/sample - loss: 0.0721 - val_loss: 0.0704\n",
            "Epoch 17/50\n",
            "7079/7079 [==============================] - 0s 46us/sample - loss: 0.0710 - val_loss: 0.0694\n",
            "Epoch 18/50\n",
            "7079/7079 [==============================] - 0s 46us/sample - loss: 0.0700 - val_loss: 0.0683\n",
            "Epoch 19/50\n",
            "7079/7079 [==============================] - 0s 46us/sample - loss: 0.0689 - val_loss: 0.0673\n",
            "Epoch 20/50\n",
            "7079/7079 [==============================] - 0s 47us/sample - loss: 0.0679 - val_loss: 0.0663\n",
            "Epoch 21/50\n",
            "7079/7079 [==============================] - 0s 45us/sample - loss: 0.0670 - val_loss: 0.0655\n",
            "Epoch 22/50\n",
            "7079/7079 [==============================] - 0s 47us/sample - loss: 0.0661 - val_loss: 0.0647\n",
            "Epoch 23/50\n",
            "7079/7079 [==============================] - 0s 47us/sample - loss: 0.0653 - val_loss: 0.0639\n",
            "Epoch 24/50\n",
            "7079/7079 [==============================] - 0s 45us/sample - loss: 0.0645 - val_loss: 0.0632\n",
            "Epoch 25/50\n",
            "7079/7079 [==============================] - 0s 46us/sample - loss: 0.0637 - val_loss: 0.0625\n",
            "Epoch 26/50\n",
            "7079/7079 [==============================] - 0s 47us/sample - loss: 0.0630 - val_loss: 0.0618\n",
            "Epoch 27/50\n",
            "7079/7079 [==============================] - 0s 46us/sample - loss: 0.0623 - val_loss: 0.0612\n",
            "Epoch 28/50\n",
            "7079/7079 [==============================] - 0s 48us/sample - loss: 0.0616 - val_loss: 0.0605\n",
            "Epoch 29/50\n",
            "7079/7079 [==============================] - 0s 47us/sample - loss: 0.0609 - val_loss: 0.0599\n",
            "Epoch 30/50\n",
            "7079/7079 [==============================] - 0s 45us/sample - loss: 0.0603 - val_loss: 0.0594\n",
            "Epoch 31/50\n",
            "7079/7079 [==============================] - 0s 46us/sample - loss: 0.0597 - val_loss: 0.0589\n",
            "Epoch 32/50\n",
            "7079/7079 [==============================] - 0s 45us/sample - loss: 0.0591 - val_loss: 0.0584\n",
            "Epoch 33/50\n",
            "7079/7079 [==============================] - 0s 47us/sample - loss: 0.0586 - val_loss: 0.0579\n",
            "Epoch 34/50\n",
            "7079/7079 [==============================] - 0s 52us/sample - loss: 0.0581 - val_loss: 0.0575\n",
            "Epoch 35/50\n",
            "7079/7079 [==============================] - 0s 46us/sample - loss: 0.0576 - val_loss: 0.0571\n",
            "Epoch 36/50\n",
            "7079/7079 [==============================] - 0s 47us/sample - loss: 0.0571 - val_loss: 0.0566\n",
            "Epoch 37/50\n",
            "7079/7079 [==============================] - 0s 48us/sample - loss: 0.0567 - val_loss: 0.0563\n",
            "Epoch 38/50\n",
            "7079/7079 [==============================] - 0s 46us/sample - loss: 0.0563 - val_loss: 0.0560\n",
            "Epoch 39/50\n",
            "7079/7079 [==============================] - 0s 46us/sample - loss: 0.0559 - val_loss: 0.0557\n",
            "Epoch 40/50\n",
            "7079/7079 [==============================] - 0s 51us/sample - loss: 0.0556 - val_loss: 0.0553\n",
            "Epoch 41/50\n",
            "7079/7079 [==============================] - 0s 46us/sample - loss: 0.0552 - val_loss: 0.0550\n",
            "Epoch 42/50\n",
            "7079/7079 [==============================] - 0s 47us/sample - loss: 0.0549 - val_loss: 0.0548\n",
            "Epoch 43/50\n",
            "7079/7079 [==============================] - 0s 48us/sample - loss: 0.0546 - val_loss: 0.0545\n",
            "Epoch 44/50\n",
            "7079/7079 [==============================] - 0s 47us/sample - loss: 0.0543 - val_loss: 0.0542\n",
            "Epoch 45/50\n",
            "7079/7079 [==============================] - 0s 46us/sample - loss: 0.0540 - val_loss: 0.0539\n",
            "Epoch 46/50\n",
            "7079/7079 [==============================] - 0s 50us/sample - loss: 0.0537 - val_loss: 0.0537\n",
            "Epoch 47/50\n",
            "7079/7079 [==============================] - 0s 45us/sample - loss: 0.0534 - val_loss: 0.0535\n",
            "Epoch 48/50\n",
            "7079/7079 [==============================] - 0s 46us/sample - loss: 0.0532 - val_loss: 0.0533\n",
            "Epoch 49/50\n",
            "7079/7079 [==============================] - 0s 46us/sample - loss: 0.0529 - val_loss: 0.0530\n",
            "Epoch 50/50\n",
            "7079/7079 [==============================] - 0s 45us/sample - loss: 0.0527 - val_loss: 0.0528\n"
          ]
        },
        {
          "output_type": "display_data",
          "data": {
            "image/png": "[encoded data removed]",
            "text/plain": [
              "<Figure size 432x288 with 1 Axes>"
            ]
          },
          "metadata": {
            "needs_background": "light"
          }
        },
        {
          "output_type": "stream",
          "name": "stderr",
          "text": [
            "/usr/local/lib/python3.7/dist-packages/keras/engine/training_v1.py:2079: UserWarning: `Model.state_updates` will be removed in a future version. This property should not be used in TensorFlow 2.0, as `updates` are applied automatically.\n",
            "  updates=self.state_updates,\n"
          ]
        }
      ],
      "source": [
        "decoded_imgs_o = simple_autoencoder(X_train_contam,X_test,50)"
      ]
    },
    {
      "cell_type": "code",
      "execution_count": null,
      "metadata": {
        "id": "5_JLET36fUSc"
      },
      "outputs": [],
      "source": [
        "mse_s_o=cal_mse(decoded_imgs_o,X_test)"
      ]
    },
    {
      "cell_type": "code",
      "execution_count": null,
      "metadata": {
        "colab": {
          "base_uri": "https://localhost:8080/"
        },
        "id": "VuVf7CQ-PtY0",
        "outputId": "c40a2a77-d7f2-448e-9dc9-3dc054b05a22"
      },
      "outputs": [
        {
          "output_type": "stream",
          "name": "stdout",
          "text": [
            "[INFO] mse threshold: 0.024245460828145333\n",
            "[INFO] 57 outliers found\n"
          ]
        }
      ],
      "source": [
        "# Define the anomaly threshold by 1/(1+contam)\n",
        "thresh_o = np.quantile(mse_s_o, 1/(1+contam))\n",
        "idxs_o = np.where(np.array(mse_s_o) >= thresh_o)[0]\n",
        "print(\"[INFO] mse threshold: {}\".format(thresh_o))\n",
        "print(\"[INFO] {} outliers found\".format(len(idxs_o)))"
      ]
    },
    {
      "cell_type": "code",
      "execution_count": null,
      "metadata": {
        "colab": {
          "base_uri": "https://localhost:8080/"
        },
        "id": "ZVr82QJsYvt1",
        "outputId": "55b93ac3-29aa-4402-cde4-365f5d70d5b6"
      },
      "outputs": [
        {
          "output_type": "execute_result",
          "data": {
            "text/plain": [
              "array([1, 1, 1, ..., 8, 8, 1])"
            ]
          },
          "metadata": {},
          "execution_count": 242
        }
      ],
      "source": [
        "# Predicted Y\n",
        "Y_pred_o = np.array([1]*len(Y_test))\n",
        "Y_pred_o[idxs_o] = 8\n",
        "Y_pred_o"
      ]
    },
    {
      "cell_type": "code",
      "execution_count": null,
      "metadata": {
        "colab": {
          "base_uri": "https://localhost:8080/"
        },
        "id": "2XxYvki3NQ0H",
        "outputId": "668d5df5-4764-4935-a4c3-e2904c6b6061"
      },
      "outputs": [
        {
          "output_type": "stream",
          "name": "stdout",
          "text": [
            "[[1124   11]\n",
            " [  10   46]]\n",
            "              precision    recall  f1-score   support\n",
            "\n",
            "           1       0.99      0.99      0.99      1135\n",
            "           8       0.81      0.82      0.81        56\n",
            "\n",
            "    accuracy                           0.98      1191\n",
            "   macro avg       0.90      0.91      0.90      1191\n",
            "weighted avg       0.98      0.98      0.98      1191\n",
            "\n"
          ]
        }
      ],
      "source": [
        "print(confusion_matrix(Y_test, Y_pred_o))\n",
        "print(classification_report(Y_test, Y_pred_o))"
      ]
    },
    {
      "cell_type": "markdown",
      "metadata": {
        "id": "RXhTY0OV3NV1"
      },
      "source": [
        "recall_8=82%. Among 56 outliers, we can find about 82% outliers by our simple simple autoencoder model in the contam case.\n",
        "\n"
      ]
    },
    {
      "cell_type": "markdown",
      "metadata": {
        "id": "o0g9bBjsKSrt"
      },
      "source": [
        "###Deep fully-connected autoencoder"
      ]
    },
    {
      "cell_type": "code",
      "execution_count": null,
      "metadata": {
        "id": "ewSDsWd1KkPn"
      },
      "outputs": [],
      "source": [
        "def deep_autoencoder(X_train, X_test, epochs):\n",
        "  #Instead of using only single layer for encoder and decoder model, we can use several layers \n",
        "  encoding_dim = 32\n",
        "  input_img_d = keras.Input(shape=(784,))\n",
        "  encoded = layers.Dense(128, activation='relu')(input_img_d)\n",
        "  encoded = layers.Dense(64, activation='relu')(encoded)\n",
        "  encoded = layers.Dense(32, activation='relu')(encoded)\n",
        "\n",
        "  decoded = layers.Dense(64, activation='relu')(encoded)\n",
        "  decoded = layers.Dense(128, activation='relu')(decoded)\n",
        "  decoded = layers.Dense(784, activation='sigmoid')(decoded)\n",
        "\n",
        "  autoencoder_deep = keras.Model(input_img_d, decoded)\n",
        "\n",
        "  autoencoder_deep.compile(optimizer='adam', loss='binary_crossentropy')\n",
        "\n",
        "  result_d=autoencoder_deep.fit(X_train, X_train,\n",
        "                epochs=epochs,\n",
        "                batch_size=256,\n",
        "                shuffle=True,\n",
        "                validation_data=(X_test, X_test))\n",
        "  \n",
        "  # plot loss function\n",
        "  plt.plot(result_d.history['loss'])\n",
        "  plt.title('model loss')\n",
        "  plt.ylabel('loss')\n",
        "  plt.xlabel('epoch')\n",
        "  plt.legend(['train', 'test'], loc='upper right');\n",
        "  plt.show()\n",
        "\n",
        "  X_pred_d = autoencoder_deep.predict(X_test)\n",
        "\n",
        "  return X_pred_d "
      ]
    },
    {
      "cell_type": "code",
      "execution_count": null,
      "metadata": {
        "colab": {
          "base_uri": "https://localhost:8080/",
          "height": 1000
        },
        "id": "SLyMPGgojxtm",
        "outputId": "aaad5732-d5da-4ef5-bfbd-f2bdf0f280e0"
      },
      "outputs": [
        {
          "output_type": "stream",
          "name": "stdout",
          "text": [
            "Train on 6742 samples, validate on 1191 samples\n",
            "Epoch 1/50\n",
            "6400/6742 [===========================>..] - ETA: 0s - loss: 0.4540"
          ]
        },
        {
          "output_type": "stream",
          "name": "stderr",
          "text": [
            "/usr/local/lib/python3.7/dist-packages/keras/engine/training_v1.py:2057: UserWarning: `Model.state_updates` will be removed in a future version. This property should not be used in TensorFlow 2.0, as `updates` are applied automatically.\n",
            "  updates = self.state_updates\n"
          ]
        },
        {
          "output_type": "stream",
          "name": "stdout",
          "text": [
            "6742/6742 [==============================] - 2s 257us/sample - loss: 0.4392 - val_loss: 0.1925\n",
            "Epoch 2/50\n",
            "6742/6742 [==============================] - 0s 66us/sample - loss: 0.1325 - val_loss: 0.1290\n",
            "Epoch 3/50\n",
            "6742/6742 [==============================] - 0s 68us/sample - loss: 0.1048 - val_loss: 0.1021\n",
            "Epoch 4/50\n",
            "6742/6742 [==============================] - 0s 67us/sample - loss: 0.0872 - val_loss: 0.0913\n",
            "Epoch 5/50\n",
            "6742/6742 [==============================] - 0s 67us/sample - loss: 0.0794 - val_loss: 0.0864\n",
            "Epoch 6/50\n",
            "6742/6742 [==============================] - 0s 70us/sample - loss: 0.0756 - val_loss: 0.0828\n",
            "Epoch 7/50\n",
            "6742/6742 [==============================] - 0s 69us/sample - loss: 0.0722 - val_loss: 0.0783\n",
            "Epoch 8/50\n",
            "6742/6742 [==============================] - 0s 67us/sample - loss: 0.0674 - val_loss: 0.0740\n",
            "Epoch 9/50\n",
            "6742/6742 [==============================] - 0s 67us/sample - loss: 0.0645 - val_loss: 0.0721\n",
            "Epoch 10/50\n",
            "6742/6742 [==============================] - 0s 70us/sample - loss: 0.0629 - val_loss: 0.0699\n",
            "Epoch 11/50\n",
            "6742/6742 [==============================] - 0s 70us/sample - loss: 0.0595 - val_loss: 0.0660\n",
            "Epoch 12/50\n",
            "6742/6742 [==============================] - 0s 70us/sample - loss: 0.0569 - val_loss: 0.0648\n",
            "Epoch 13/50\n",
            "6742/6742 [==============================] - 0s 68us/sample - loss: 0.0558 - val_loss: 0.0640\n",
            "Epoch 14/50\n",
            "6742/6742 [==============================] - 0s 69us/sample - loss: 0.0551 - val_loss: 0.0634\n",
            "Epoch 15/50\n",
            "6742/6742 [==============================] - 0s 70us/sample - loss: 0.0543 - val_loss: 0.0630\n",
            "Epoch 16/50\n",
            "6742/6742 [==============================] - 0s 72us/sample - loss: 0.0534 - val_loss: 0.0621\n",
            "Epoch 17/50\n",
            "6742/6742 [==============================] - 0s 68us/sample - loss: 0.0524 - val_loss: 0.0614\n",
            "Epoch 18/50\n",
            "6742/6742 [==============================] - 0s 72us/sample - loss: 0.0515 - val_loss: 0.0610\n",
            "Epoch 19/50\n",
            "6742/6742 [==============================] - 0s 67us/sample - loss: 0.0509 - val_loss: 0.0605\n",
            "Epoch 20/50\n",
            "6742/6742 [==============================] - 0s 70us/sample - loss: 0.0503 - val_loss: 0.0602\n",
            "Epoch 21/50\n",
            "6742/6742 [==============================] - 0s 69us/sample - loss: 0.0497 - val_loss: 0.0598\n",
            "Epoch 22/50\n",
            "6742/6742 [==============================] - 0s 69us/sample - loss: 0.0492 - val_loss: 0.0593\n",
            "Epoch 23/50\n",
            "6742/6742 [==============================] - 0s 69us/sample - loss: 0.0486 - val_loss: 0.0588\n",
            "Epoch 24/50\n",
            "6742/6742 [==============================] - 0s 67us/sample - loss: 0.0481 - val_loss: 0.0585\n",
            "Epoch 25/50\n",
            "6742/6742 [==============================] - 0s 70us/sample - loss: 0.0477 - val_loss: 0.0581\n",
            "Epoch 26/50\n",
            "6742/6742 [==============================] - 0s 69us/sample - loss: 0.0473 - val_loss: 0.0577\n",
            "Epoch 27/50\n",
            "6742/6742 [==============================] - 0s 72us/sample - loss: 0.0469 - val_loss: 0.0574\n",
            "Epoch 28/50\n",
            "6742/6742 [==============================] - 0s 73us/sample - loss: 0.0466 - val_loss: 0.0572\n",
            "Epoch 29/50\n",
            "6742/6742 [==============================] - 0s 68us/sample - loss: 0.0462 - val_loss: 0.0567\n",
            "Epoch 30/50\n",
            "6742/6742 [==============================] - 0s 67us/sample - loss: 0.0460 - val_loss: 0.0566\n",
            "Epoch 31/50\n",
            "6742/6742 [==============================] - 0s 69us/sample - loss: 0.0457 - val_loss: 0.0564\n",
            "Epoch 32/50\n",
            "6742/6742 [==============================] - 0s 70us/sample - loss: 0.0454 - val_loss: 0.0561\n",
            "Epoch 33/50\n",
            "6742/6742 [==============================] - 0s 72us/sample - loss: 0.0452 - val_loss: 0.0559\n",
            "Epoch 34/50\n",
            "6742/6742 [==============================] - 0s 69us/sample - loss: 0.0451 - val_loss: 0.0557\n",
            "Epoch 35/50\n",
            "6742/6742 [==============================] - 0s 68us/sample - loss: 0.0449 - val_loss: 0.0556\n",
            "Epoch 36/50\n",
            "6742/6742 [==============================] - 0s 71us/sample - loss: 0.0447 - val_loss: 0.0556\n",
            "Epoch 37/50\n",
            "6742/6742 [==============================] - 0s 68us/sample - loss: 0.0446 - val_loss: 0.0555\n",
            "Epoch 38/50\n",
            "6742/6742 [==============================] - 0s 70us/sample - loss: 0.0445 - val_loss: 0.0553\n",
            "Epoch 39/50\n",
            "6742/6742 [==============================] - 0s 67us/sample - loss: 0.0444 - val_loss: 0.0553\n",
            "Epoch 40/50\n",
            "6742/6742 [==============================] - 0s 69us/sample - loss: 0.0442 - val_loss: 0.0553\n",
            "Epoch 41/50\n",
            "6742/6742 [==============================] - 0s 68us/sample - loss: 0.0441 - val_loss: 0.0552\n",
            "Epoch 42/50\n",
            "6742/6742 [==============================] - 0s 67us/sample - loss: 0.0440 - val_loss: 0.0550\n",
            "Epoch 43/50\n",
            "6742/6742 [==============================] - 0s 69us/sample - loss: 0.0439 - val_loss: 0.0550\n",
            "Epoch 44/50\n",
            "6742/6742 [==============================] - 0s 67us/sample - loss: 0.0438 - val_loss: 0.0549\n",
            "Epoch 45/50\n",
            "6742/6742 [==============================] - 0s 67us/sample - loss: 0.0437 - val_loss: 0.0548\n",
            "Epoch 46/50\n",
            "6742/6742 [==============================] - 0s 69us/sample - loss: 0.0436 - val_loss: 0.0548\n",
            "Epoch 47/50\n",
            "6742/6742 [==============================] - 0s 69us/sample - loss: 0.0435 - val_loss: 0.0548\n",
            "Epoch 48/50\n",
            "6742/6742 [==============================] - 0s 66us/sample - loss: 0.0434 - val_loss: 0.0546\n",
            "Epoch 49/50\n",
            "6742/6742 [==============================] - 0s 69us/sample - loss: 0.0433 - val_loss: 0.0545\n",
            "Epoch 50/50\n",
            "6742/6742 [==============================] - 0s 68us/sample - loss: 0.0432 - val_loss: 0.0545\n"
          ]
        },
        {
          "output_type": "display_data",
          "data": {
            "image/png": "[encoded data removed]",
            "text/plain": [
              "<Figure size 432x288 with 1 Axes>"
            ]
          },
          "metadata": {
            "needs_background": "light"
          }
        },
        {
          "output_type": "stream",
          "name": "stderr",
          "text": [
            "/usr/local/lib/python3.7/dist-packages/keras/engine/training_v1.py:2079: UserWarning: `Model.state_updates` will be removed in a future version. This property should not be used in TensorFlow 2.0, as `updates` are applied automatically.\n",
            "  updates=self.state_updates,\n"
          ]
        }
      ],
      "source": [
        "X_pred_d = deep_autoencoder(X_train_norm,X_test,50)"
      ]
    },
    {
      "cell_type": "code",
      "execution_count": null,
      "metadata": {
        "id": "A70aOdE-NJBn"
      },
      "outputs": [],
      "source": [
        "# Measure the error between the reconstruction and the original image\n",
        "mse_d = cal_mse(X_pred_d, X_test)"
      ]
    },
    {
      "cell_type": "code",
      "execution_count": null,
      "metadata": {
        "colab": {
          "base_uri": "https://localhost:8080/"
        },
        "id": "NXrEnSCtPr7v",
        "outputId": "92adc75a-cc16-4ea5-f4a9-85e32053d227"
      },
      "outputs": [
        {
          "output_type": "stream",
          "name": "stdout",
          "text": [
            "[INFO] mse threshold: 0.033230805148680854\n",
            "[INFO] 57 outliers found\n"
          ]
        }
      ],
      "source": [
        "#Define the anomaly threshold by 1/(1+contam)\n",
        "thresh_d = np.quantile(mse_d, 1/(1+contam))\n",
        "idxs_d = np.where(np.array(mse_d) >= thresh_d)[0]\n",
        "print(\"[INFO] mse threshold: {}\".format(thresh_d))\n",
        "print(\"[INFO] {} outliers found\".format(len(idxs_d)))"
      ]
    },
    {
      "cell_type": "code",
      "execution_count": null,
      "metadata": {
        "colab": {
          "base_uri": "https://localhost:8080/"
        },
        "id": "ZQ8EW2jTO7Uq",
        "outputId": "2eb76f42-b02e-43ad-eba1-bca7a65335dc"
      },
      "outputs": [
        {
          "output_type": "execute_result",
          "data": {
            "text/plain": [
              "array([1, 1, 1, ..., 8, 8, 8])"
            ]
          },
          "metadata": {},
          "execution_count": 248
        }
      ],
      "source": [
        "# Predicted Y\n",
        "Y_pred_d = np.array([1]*len(Y_test))\n",
        "Y_pred_d[idxs_d] = 8\n",
        "Y_pred_d"
      ]
    },
    {
      "cell_type": "code",
      "execution_count": null,
      "metadata": {
        "colab": {
          "base_uri": "https://localhost:8080/"
        },
        "id": "qm2rdMVWPWI0",
        "outputId": "828bcbda-2316-4a45-c97f-1f2bb8248969"
      },
      "outputs": [
        {
          "output_type": "stream",
          "name": "stdout",
          "text": [
            "[[1132    3]\n",
            " [   2   54]]\n",
            "              precision    recall  f1-score   support\n",
            "\n",
            "           1       1.00      1.00      1.00      1135\n",
            "           8       0.95      0.96      0.96        56\n",
            "\n",
            "    accuracy                           1.00      1191\n",
            "   macro avg       0.97      0.98      0.98      1191\n",
            "weighted avg       1.00      1.00      1.00      1191\n",
            "\n"
          ]
        }
      ],
      "source": [
        "print(confusion_matrix(Y_test, Y_pred_d))\n",
        "print(classification_report(Y_test, Y_pred_d))"
      ]
    },
    {
      "cell_type": "markdown",
      "metadata": {
        "id": "QoiDx1PV83MR"
      },
      "source": [
        "Recall_8 = 0.96 measures the proportion of success detection. Among 56 outliers, we can find about 96% outliers by Deep fully-connected autoencoder model, same with the simple autoencoder"
      ]
    },
    {
      "cell_type": "code",
      "execution_count": null,
      "metadata": {
        "colab": {
          "base_uri": "https://localhost:8080/",
          "height": 252
        },
        "id": "M-TjegUrbN5C",
        "outputId": "d4f9ef3b-6934-43c8-deda-ce54bd16a823"
      },
      "outputs": [
        {
          "output_type": "display_data",
          "data": {
            "image/png": "[encoded data removed]",
            "text/plain": [
              "<Figure size 1440x288 with 10 Axes>"
            ]
          },
          "metadata": {
            "needs_background": "light"
          }
        }
      ],
      "source": [
        "# See the false predicted images\n",
        "plot_d=false_image(Y_pred_d,Y_test,X_test)"
      ]
    },
    {
      "cell_type": "markdown",
      "metadata": {
        "id": "oHwJjhub9u5C"
      },
      "source": [
        "### Variational autoencoder"
      ]
    },
    {
      "cell_type": "code",
      "execution_count": null,
      "metadata": {
        "id": "9vBYOpADRy_k"
      },
      "outputs": [],
      "source": [
        "# The reparameterization\n",
        "def sample(args):\n",
        "    z_mean, z_log_var = args\n",
        "    batch = K.shape(z_mean)[0]\n",
        "    dim = K.int_shape(z_mean)[1]\n",
        "    epsilon = K.random_normal(shape=(batch, dim))\n",
        "    return z_mean + K.exp(z_log_var) * epsilon"
      ]
    },
    {
      "cell_type": "code",
      "execution_count": null,
      "metadata": {
        "id": "mnjeQniD2xeq"
      },
      "outputs": [],
      "source": [
        "original_dim = X_train_norm.shape[1]\n",
        "input_shape = (original_dim,)\n",
        "intermediate_dim = int(original_dim / 2)\n",
        "latent_dim = int(original_dim / 3)"
      ]
    },
    {
      "cell_type": "code",
      "execution_count": null,
      "metadata": {
        "colab": {
          "base_uri": "https://localhost:8080/"
        },
        "id": "jQmIujtsTNjX",
        "outputId": "4710b799-92a5-4070-d2fb-02bc09d408d7"
      },
      "outputs": [
        {
          "output_type": "stream",
          "name": "stdout",
          "text": [
            "Model: \"encoder\"\n",
            "__________________________________________________________________________________________________\n",
            " Layer (type)                   Output Shape         Param #     Connected to                     \n",
            "==================================================================================================\n",
            " encoder_input (InputLayer)     [(None, 784)]        0           []                               \n",
            "                                                                                                  \n",
            " dense_79 (Dense)               (None, 392)          307720      ['encoder_input[0][0]']          \n",
            "                                                                                                  \n",
            " z_mean (Dense)                 (None, 261)          102573      ['dense_79[0][0]']               \n",
            "                                                                                                  \n",
            " z_log_var (Dense)              (None, 261)          102573      ['dense_79[0][0]']               \n",
            "                                                                                                  \n",
            " z (Lambda)                     (None, 261)          0           ['z_mean[0][0]',                 \n",
            "                                                                  'z_log_var[0][0]']              \n",
            "                                                                                                  \n",
            "==================================================================================================\n",
            "Total params: 512,866\n",
            "Trainable params: 512,866\n",
            "Non-trainable params: 0\n",
            "__________________________________________________________________________________________________\n"
          ]
        }
      ],
      "source": [
        "# encoder model\n",
        "inputs = Input(shape=input_shape, name='encoder_input')\n",
        "x = Dense(intermediate_dim, activation='relu')(inputs)\n",
        "z_mean = Dense(latent_dim, name='z_mean')(x)\n",
        "z_log_var = Dense(latent_dim, name='z_log_var')(x)\n",
        "# use the reparameterization trick and get the output from the sample() function\n",
        "z = Lambda(sample, output_shape=(latent_dim,), name='z')([z_mean, z_log_var])\n",
        "encoder = Model(inputs, z, name='encoder')\n",
        "encoder.summary()"
      ]
    },
    {
      "cell_type": "code",
      "execution_count": null,
      "metadata": {
        "colab": {
          "base_uri": "https://localhost:8080/"
        },
        "id": "sGGzPKb1U14j",
        "outputId": "08c4220e-45b1-4bb1-8d1c-c4ac514b02e1"
      },
      "outputs": [
        {
          "output_type": "stream",
          "name": "stdout",
          "text": [
            "Model: \"decoder\"\n",
            "_________________________________________________________________\n",
            " Layer (type)                Output Shape              Param #   \n",
            "=================================================================\n",
            " z_sampling (InputLayer)     [(None, 261)]             0         \n",
            "                                                                 \n",
            " dense_80 (Dense)            (None, 392)               102704    \n",
            "                                                                 \n",
            " dense_81 (Dense)            (None, 784)               308112    \n",
            "                                                                 \n",
            "=================================================================\n",
            "Total params: 410,816\n",
            "Trainable params: 410,816\n",
            "Non-trainable params: 0\n",
            "_________________________________________________________________\n"
          ]
        }
      ],
      "source": [
        "# decoder model\n",
        "latent_inputs = Input(shape=(latent_dim,), name='z_sampling')\n",
        "x = Dense(intermediate_dim, activation='relu')(latent_inputs)\n",
        "outputs = Dense(original_dim, activation='sigmoid')(x)\n",
        "# Instantiate the decoder model:\n",
        "decoder = Model(latent_inputs, outputs, name='decoder')\n",
        "decoder.summary()"
      ]
    },
    {
      "cell_type": "code",
      "execution_count": null,
      "metadata": {
        "id": "vtdROAXBVX6N"
      },
      "outputs": [],
      "source": [
        "# full VAE model\n",
        "outputs = decoder(encoder(inputs))\n",
        "vae_model = Model(inputs, outputs, name='vae_mlp')"
      ]
    },
    {
      "cell_type": "code",
      "execution_count": null,
      "metadata": {
        "id": "bX5jI5qLVads"
      },
      "outputs": [],
      "source": [
        "# the KL loss function:\n",
        "def vae_loss(x, x_decoded_mean):\n",
        "    # compute the average MSE error, then scale it up, ie. simply sum on all axes\n",
        "    reconstruction_loss = K.sum(K.square(x - x_decoded_mean))\n",
        "    # compute the KL loss\n",
        "    kl_loss = - 0.5 * K.sum(1 + z_log_var - K.square(z_mean) - K.square(K.exp(z_log_var)), axis=-1)\n",
        "    # return the average loss over all \n",
        "    total_loss = K.mean(reconstruction_loss + kl_loss)    \n",
        "    #total_loss = reconstruction_loss + kl_loss\n",
        "    return total_loss"
      ]
    },
    {
      "cell_type": "code",
      "execution_count": null,
      "metadata": {
        "colab": {
          "base_uri": "https://localhost:8080/"
        },
        "id": "-1IvvdbGV9mH",
        "outputId": "090ee02b-8570-4a48-9043-316a37a121d1"
      },
      "outputs": [
        {
          "output_type": "stream",
          "name": "stdout",
          "text": [
            "Model: \"vae_mlp\"\n",
            "_________________________________________________________________\n",
            " Layer (type)                Output Shape              Param #   \n",
            "=================================================================\n",
            " encoder_input (InputLayer)  [(None, 784)]             0         \n",
            "                                                                 \n",
            " encoder (Functional)        (None, 261)               512866    \n",
            "                                                                 \n",
            " decoder (Functional)        (None, 784)               410816    \n",
            "                                                                 \n",
            "=================================================================\n",
            "Total params: 923,682\n",
            "Trainable params: 923,682\n",
            "Non-trainable params: 0\n",
            "_________________________________________________________________\n"
          ]
        }
      ],
      "source": [
        "opt = optimizers.Adam(learning_rate=0.0001, clipvalue=0.5)\n",
        "\n",
        "vae_model.compile(optimizer=opt, loss=vae_loss)\n",
        "vae_model.summary()"
      ]
    },
    {
      "cell_type": "code",
      "execution_count": null,
      "metadata": {
        "colab": {
          "base_uri": "https://localhost:8080/"
        },
        "id": "99lvwFPRWNIO",
        "outputId": "c4e65d7e-efe7-454a-b538-5903a86760ae"
      },
      "outputs": [
        {
          "output_type": "stream",
          "name": "stdout",
          "text": [
            "Train on 6742 samples\n",
            "Epoch 1/32\n",
            "6742/6742 [==============================] - 3s 404us/sample - loss: 11742.4182\n",
            "Epoch 2/32\n",
            "6742/6742 [==============================] - 2s 250us/sample - loss: 2487.4267\n",
            "Epoch 3/32\n",
            "6742/6742 [==============================] - 2s 251us/sample - loss: 1425.4134\n",
            "Epoch 4/32\n",
            "6742/6742 [==============================] - 2s 247us/sample - loss: 1114.8806\n",
            "Epoch 5/32\n",
            "6742/6742 [==============================] - 2s 248us/sample - loss: 929.6518\n",
            "Epoch 6/32\n",
            "6742/6742 [==============================] - 2s 251us/sample - loss: 748.9645\n",
            "Epoch 7/32\n",
            "6742/6742 [==============================] - 2s 253us/sample - loss: 632.7491\n",
            "Epoch 8/32\n",
            "6742/6742 [==============================] - 2s 256us/sample - loss: 562.1408\n",
            "Epoch 9/32\n",
            "6742/6742 [==============================] - 2s 256us/sample - loss: 510.7184\n",
            "Epoch 10/32\n",
            "6742/6742 [==============================] - 2s 262us/sample - loss: 473.9628\n",
            "Epoch 11/32\n",
            "6742/6742 [==============================] - 2s 257us/sample - loss: 445.7214\n",
            "Epoch 12/32\n",
            "6742/6742 [==============================] - 2s 252us/sample - loss: 424.1786\n",
            "Epoch 13/32\n",
            "6742/6742 [==============================] - 2s 255us/sample - loss: 405.7633\n",
            "Epoch 14/32\n",
            "6742/6742 [==============================] - 2s 245us/sample - loss: 391.1782\n",
            "Epoch 15/32\n",
            "6742/6742 [==============================] - 2s 253us/sample - loss: 376.7262\n",
            "Epoch 16/32\n",
            "6742/6742 [==============================] - 2s 246us/sample - loss: 365.5973\n",
            "Epoch 17/32\n",
            "6742/6742 [==============================] - 2s 251us/sample - loss: 354.6222\n",
            "Epoch 18/32\n",
            "6742/6742 [==============================] - 2s 249us/sample - loss: 346.8099\n",
            "Epoch 19/32\n",
            "6742/6742 [==============================] - 2s 254us/sample - loss: 338.5223\n",
            "Epoch 20/32\n",
            "6742/6742 [==============================] - 2s 249us/sample - loss: 330.2450\n",
            "Epoch 21/32\n",
            "6742/6742 [==============================] - 2s 249us/sample - loss: 323.4340\n",
            "Epoch 22/32\n",
            "6742/6742 [==============================] - 2s 250us/sample - loss: 316.6164\n",
            "Epoch 23/32\n",
            "6742/6742 [==============================] - 2s 250us/sample - loss: 310.2616\n",
            "Epoch 24/32\n",
            "6742/6742 [==============================] - 2s 246us/sample - loss: 304.0190\n",
            "Epoch 25/32\n",
            "6742/6742 [==============================] - 2s 252us/sample - loss: 298.8239\n",
            "Epoch 26/32\n",
            "6742/6742 [==============================] - 2s 250us/sample - loss: 293.3130\n",
            "Epoch 27/32\n",
            "6742/6742 [==============================] - 2s 252us/sample - loss: 289.7396\n",
            "Epoch 28/32\n",
            "6742/6742 [==============================] - 2s 251us/sample - loss: 284.6378\n",
            "Epoch 29/32\n",
            "6742/6742 [==============================] - 2s 247us/sample - loss: 281.4708\n",
            "Epoch 30/32\n",
            "6742/6742 [==============================] - 2s 248us/sample - loss: 276.8409\n",
            "Epoch 31/32\n",
            "6742/6742 [==============================] - 2s 243us/sample - loss: 273.2706\n",
            "Epoch 32/32\n",
            "6742/6742 [==============================] - 2s 249us/sample - loss: 269.9945\n"
          ]
        }
      ],
      "source": [
        "# Finally, we train the model:\n",
        "results = vae_model.fit(X_train_norm, X_train_norm,\n",
        "                        shuffle=True,\n",
        "                        epochs=32,\n",
        "                        batch_size=100)"
      ]
    },
    {
      "cell_type": "code",
      "execution_count": null,
      "metadata": {
        "colab": {
          "base_uri": "https://localhost:8080/",
          "height": 295
        },
        "id": "OEao_YcJbc8b",
        "outputId": "98efe4a1-6401-48bc-cfb2-5eac767ee9cb"
      },
      "outputs": [
        {
          "output_type": "display_data",
          "data": {
            "image/png": "[encoded data removed]",
            "text/plain": [
              "<Figure size 432x288 with 1 Axes>"
            ]
          },
          "metadata": {
            "needs_background": "light"
          }
        }
      ],
      "source": [
        "#Plot the trend of loss\n",
        "plt.plot(results.history['loss'])\n",
        "plt.title('model loss')\n",
        "plt.ylabel('loss')\n",
        "plt.xlabel('epoch')\n",
        "plt.legend(['train', 'test'], loc='upper right');\n",
        "plt.show()"
      ]
    },
    {
      "cell_type": "code",
      "execution_count": null,
      "metadata": {
        "colab": {
          "base_uri": "https://localhost:8080/"
        },
        "id": "rwEl8QSDldzs",
        "outputId": "be3de136-aacf-4805-e3e8-0b353647f6a5"
      },
      "outputs": [
        {
          "output_type": "stream",
          "name": "stderr",
          "text": [
            "/usr/local/lib/python3.7/dist-packages/keras/engine/training_v1.py:2079: UserWarning: `Model.state_updates` will be removed in a future version. This property should not be used in TensorFlow 2.0, as `updates` are applied automatically.\n",
            "  updates=self.state_updates,\n"
          ]
        }
      ],
      "source": [
        "#Use the model trained to do prediction in test set\n",
        "X_pred_v = vae_model.predict(X_test)"
      ]
    },
    {
      "cell_type": "code",
      "execution_count": null,
      "metadata": {
        "id": "KOMbVMtZlLkw"
      },
      "outputs": [],
      "source": [
        "# Measure the error between the reconstruction and the original image\n",
        "mse_v = cal_mse(X_pred_v, X_test) "
      ]
    },
    {
      "cell_type": "code",
      "execution_count": null,
      "metadata": {
        "colab": {
          "base_uri": "https://localhost:8080/"
        },
        "id": "72-Fp6OClpHO",
        "outputId": "c13767f1-b677-4f2d-b8b8-035f04d572d9"
      },
      "outputs": [
        {
          "output_type": "stream",
          "name": "stdout",
          "text": [
            "[INFO] mse threshold: 0.02244914819796874\n",
            "[INFO] 57 outliers found\n"
          ]
        }
      ],
      "source": [
        "#Define the anomaly threshold by 1/(1+contam)\n",
        "thresh_v = np.quantile(mse_v, 1/(1+contam))\n",
        "idxs_v = np.where(np.array(mse_v) >= thresh_v)[0]\n",
        "print(\"[INFO] mse threshold: {}\".format(thresh_v))\n",
        "print(\"[INFO] {} outliers found\".format(len(idxs_v)))"
      ]
    },
    {
      "cell_type": "code",
      "execution_count": null,
      "metadata": {
        "colab": {
          "base_uri": "https://localhost:8080/"
        },
        "id": "yOvxeCDKl_4G",
        "outputId": "44dd0893-f7b1-483d-ee96-507408d57ea1"
      },
      "outputs": [
        {
          "output_type": "execute_result",
          "data": {
            "text/plain": [
              "array([1, 1, 1, ..., 8, 8, 8])"
            ]
          },
          "metadata": {},
          "execution_count": 263
        }
      ],
      "source": [
        "# Predicted Y\n",
        "Y_pred_v = np.array([1]*len(Y_test))\n",
        "Y_pred_v[idxs_v] = 8\n",
        "Y_pred_v"
      ]
    },
    {
      "cell_type": "code",
      "execution_count": null,
      "metadata": {
        "colab": {
          "base_uri": "https://localhost:8080/"
        },
        "id": "CcKZWoLRmi9C",
        "outputId": "14955eb3-08c3-4977-f729-29ded0bcaf80"
      },
      "outputs": [
        {
          "output_type": "stream",
          "name": "stdout",
          "text": [
            "[[1132    3]\n",
            " [   2   54]]\n",
            "              precision    recall  f1-score   support\n",
            "\n",
            "           1       1.00      1.00      1.00      1135\n",
            "           8       0.95      0.96      0.96        56\n",
            "\n",
            "    accuracy                           1.00      1191\n",
            "   macro avg       0.97      0.98      0.98      1191\n",
            "weighted avg       1.00      1.00      1.00      1191\n",
            "\n"
          ]
        }
      ],
      "source": [
        "print(confusion_matrix(Y_test, Y_pred_v))\n",
        "print(classification_report(Y_test, Y_pred_v))"
      ]
    },
    {
      "cell_type": "markdown",
      "metadata": {
        "id": "6ArwIsYg_MUl"
      },
      "source": [
        "Recall_8 = 0.93 measures the proportion of success detection. Among 56 outliers, we can find about 93% outliers by variational autoencoder model, a little worse than the previous two methods"
      ]
    },
    {
      "cell_type": "code",
      "execution_count": null,
      "metadata": {
        "colab": {
          "base_uri": "https://localhost:8080/",
          "height": 252
        },
        "id": "gKOasRjEm2nZ",
        "outputId": "06bb881f-5a4d-4a05-fead-f62f047dcd70"
      },
      "outputs": [
        {
          "output_type": "display_data",
          "data": {
            "image/png": "[encoded data removed]",
            "text/plain": [
              "<Figure size 1440x288 with 10 Axes>"
            ]
          },
          "metadata": {
            "needs_background": "light"
          }
        }
      ],
      "source": [
        "# See the false predicted images\n",
        "plot_v=false_image(Y_pred_v,Y_test,X_test)"
      ]
    },
    {
      "cell_type": "markdown",
      "metadata": {
        "id": "cOxUdEbZAhzC"
      },
      "source": [
        "## NormalLabel=0,1,2,3,4,5,6,7,9 v.s. AnomalLabel = 8"
      ]
    },
    {
      "cell_type": "markdown",
      "metadata": {
        "id": "1FnwcLJPAk7h"
      },
      "source": [
        "Instead of putting only two digits (1 as normal, 8 as anomaly) in our dataset, now we take all the digits and set 8 as an anomaly, then try to detect it from digit 0 to 9 with autoencoder model."
      ]
    },
    {
      "cell_type": "markdown",
      "metadata": {
        "id": "eLaxCvKaBfFQ"
      },
      "source": [
        "### Data Preparation (Same as above)"
      ]
    },
    {
      "cell_type": "code",
      "execution_count": null,
      "metadata": {
        "id": "u1_a9HHyA4q8"
      },
      "outputs": [],
      "source": [
        "validLabel2=0,1,2,3,4,5,6,7,9\n",
        "anomalyLabel2=8\n",
        "contam=0.05"
      ]
    },
    {
      "cell_type": "code",
      "execution_count": null,
      "metadata": {
        "colab": {
          "base_uri": "https://localhost:8080/"
        },
        "id": "ldKiBDyW8jre",
        "outputId": "d1f4ab01-4f0e-4f4c-e49a-23362f98a85a"
      },
      "outputs": [
        {
          "output_type": "stream",
          "name": "stdout",
          "text": [
            "(54149, 28, 28)\n",
            "(9477, 28, 28)\n",
            "(9477,)\n"
          ]
        }
      ],
      "source": [
        "X_train_2, Y_train_2 = build_X_train_nocontam(x_train,y_train,validLabel2)\n",
        "print(X_train_2.shape)\n",
        "(X_test_2, Y_test_2) = build_X_Y(x_test,y_test,validLabel2,anomalyLabel2,contam=0.05)\n",
        "print(X_test_2.shape)\n",
        "print(Y_test_2.shape)"
      ]
    },
    {
      "cell_type": "code",
      "execution_count": null,
      "metadata": {
        "id": "uAA3YA95BoLF"
      },
      "outputs": [],
      "source": [
        "def normal_img_2(train_X,test_X):\n",
        "  X_train = train_X.astype('float32') / 255.\n",
        "  X_test = test_X.astype('float32') / 255.\n",
        "  \n",
        "  X_train = X_train.reshape(len(X_train), np.prod(X_train.shape[1:]))\n",
        "  X_test = X_test.reshape(len(X_test), np.prod(X_test.shape[1:]))\n",
        "  return X_train,X_test"
      ]
    },
    {
      "cell_type": "code",
      "execution_count": null,
      "metadata": {
        "colab": {
          "base_uri": "https://localhost:8080/"
        },
        "id": "koWDUrwJBceA",
        "outputId": "c79a136e-69f0-4d10-a9a4-3dce50d292db"
      },
      "outputs": [
        {
          "output_type": "stream",
          "name": "stdout",
          "text": [
            "(54149, 784)\n",
            "(9477, 784)\n"
          ]
        }
      ],
      "source": [
        "(X_train_2, X_test_2) = normal_img_2(X_train_2, X_test_2)\n",
        "print(X_train_2.shape)\n",
        "print(X_test_2.shape)"
      ]
    },
    {
      "cell_type": "markdown",
      "metadata": {
        "id": "THWocBVBdQ1b"
      },
      "source": [
        "###Simple autoencoder"
      ]
    },
    {
      "cell_type": "code",
      "execution_count": null,
      "metadata": {
        "colab": {
          "base_uri": "https://localhost:8080/",
          "height": 1000
        },
        "id": "xpoLfYPcck-b",
        "outputId": "b606d98b-a9c8-4239-cda7-2929ac4887b5"
      },
      "outputs": [
        {
          "output_type": "stream",
          "name": "stdout",
          "text": [
            "Train on 54149 samples, validate on 9477 samples\n",
            "Epoch 1/80\n",
            "53504/54149 [============================>.] - ETA: 0s - loss: 0.2853"
          ]
        },
        {
          "output_type": "stream",
          "name": "stderr",
          "text": [
            "/usr/local/lib/python3.7/dist-packages/keras/engine/training_v1.py:2057: UserWarning: `Model.state_updates` will be removed in a future version. This property should not be used in TensorFlow 2.0, as `updates` are applied automatically.\n",
            "  updates = self.state_updates\n"
          ]
        },
        {
          "output_type": "stream",
          "name": "stdout",
          "text": [
            "54149/54149 [==============================] - 4s 69us/sample - loss: 0.2842 - val_loss: 0.1943\n",
            "Epoch 2/80\n",
            "54149/54149 [==============================] - 3s 47us/sample - loss: 0.1731 - val_loss: 0.1579\n",
            "Epoch 3/80\n",
            "54149/54149 [==============================] - 3s 47us/sample - loss: 0.1456 - val_loss: 0.1377\n",
            "Epoch 4/80\n",
            "54149/54149 [==============================] - 2s 46us/sample - loss: 0.1296 - val_loss: 0.1252\n",
            "Epoch 5/80\n",
            "54149/54149 [==============================] - 2s 45us/sample - loss: 0.1191 - val_loss: 0.1163\n",
            "Epoch 6/80\n",
            "54149/54149 [==============================] - 3s 46us/sample - loss: 0.1120 - val_loss: 0.1102\n",
            "Epoch 7/80\n",
            "54149/54149 [==============================] - 2s 46us/sample - loss: 0.1067 - val_loss: 0.1055\n",
            "Epoch 8/80\n",
            "54149/54149 [==============================] - 3s 46us/sample - loss: 0.1025 - val_loss: 0.1017\n",
            "Epoch 9/80\n",
            "54149/54149 [==============================] - 2s 46us/sample - loss: 0.0993 - val_loss: 0.0989\n",
            "Epoch 10/80\n",
            "54149/54149 [==============================] - 2s 46us/sample - loss: 0.0969 - val_loss: 0.0968\n",
            "Epoch 11/80\n",
            "54149/54149 [==============================] - 3s 46us/sample - loss: 0.0950 - val_loss: 0.0956\n",
            "Epoch 12/80\n",
            "54149/54149 [==============================] - 2s 46us/sample - loss: 0.0937 - val_loss: 0.0940\n",
            "Epoch 13/80\n",
            "54149/54149 [==============================] - 3s 46us/sample - loss: 0.0928 - val_loss: 0.0932\n",
            "Epoch 14/80\n",
            "54149/54149 [==============================] - 3s 46us/sample - loss: 0.0922 - val_loss: 0.0927\n",
            "Epoch 15/80\n",
            "54149/54149 [==============================] - 3s 47us/sample - loss: 0.0917 - val_loss: 0.0923\n",
            "Epoch 16/80\n",
            "54149/54149 [==============================] - 2s 46us/sample - loss: 0.0914 - val_loss: 0.0920\n",
            "Epoch 17/80\n",
            "54149/54149 [==============================] - 2s 45us/sample - loss: 0.0911 - val_loss: 0.0918\n",
            "Epoch 18/80\n",
            "54149/54149 [==============================] - 2s 45us/sample - loss: 0.0909 - val_loss: 0.0916\n",
            "Epoch 19/80\n",
            "54149/54149 [==============================] - 3s 47us/sample - loss: 0.0908 - val_loss: 0.0915\n",
            "Epoch 20/80\n",
            "54149/54149 [==============================] - 2s 46us/sample - loss: 0.0906 - val_loss: 0.0915\n",
            "Epoch 21/80\n",
            "54149/54149 [==============================] - 2s 45us/sample - loss: 0.0905 - val_loss: 0.0913\n",
            "Epoch 22/80\n",
            "54149/54149 [==============================] - 2s 46us/sample - loss: 0.0904 - val_loss: 0.0912\n",
            "Epoch 23/80\n",
            "54149/54149 [==============================] - 2s 45us/sample - loss: 0.0904 - val_loss: 0.0911\n",
            "Epoch 24/80\n",
            "54149/54149 [==============================] - 2s 46us/sample - loss: 0.0903 - val_loss: 0.0911\n",
            "Epoch 25/80\n",
            "54149/54149 [==============================] - 3s 46us/sample - loss: 0.0902 - val_loss: 0.0910\n",
            "Epoch 26/80\n",
            "54149/54149 [==============================] - 3s 47us/sample - loss: 0.0902 - val_loss: 0.0911\n",
            "Epoch 27/80\n",
            "54149/54149 [==============================] - 3s 46us/sample - loss: 0.0901 - val_loss: 0.0910\n",
            "Epoch 28/80\n",
            "54149/54149 [==============================] - 3s 47us/sample - loss: 0.0900 - val_loss: 0.0909\n",
            "Epoch 29/80\n",
            "54149/54149 [==============================] - 2s 45us/sample - loss: 0.0900 - val_loss: 0.0909\n",
            "Epoch 30/80\n",
            "54149/54149 [==============================] - 2s 46us/sample - loss: 0.0900 - val_loss: 0.0909\n",
            "Epoch 31/80\n",
            "54149/54149 [==============================] - 2s 46us/sample - loss: 0.0899 - val_loss: 0.0908\n",
            "Epoch 32/80\n",
            "54149/54149 [==============================] - 3s 48us/sample - loss: 0.0899 - val_loss: 0.0910\n",
            "Epoch 33/80\n",
            "54149/54149 [==============================] - 3s 46us/sample - loss: 0.0899 - val_loss: 0.0908\n",
            "Epoch 34/80\n",
            "54149/54149 [==============================] - 3s 46us/sample - loss: 0.0899 - val_loss: 0.0908\n",
            "Epoch 35/80\n",
            "54149/54149 [==============================] - 2s 45us/sample - loss: 0.0898 - val_loss: 0.0908\n",
            "Epoch 36/80\n",
            "54149/54149 [==============================] - 3s 47us/sample - loss: 0.0898 - val_loss: 0.0907\n",
            "Epoch 37/80\n",
            "54149/54149 [==============================] - 2s 45us/sample - loss: 0.0898 - val_loss: 0.0907\n",
            "Epoch 38/80\n",
            "54149/54149 [==============================] - 2s 45us/sample - loss: 0.0898 - val_loss: 0.0908\n",
            "Epoch 39/80\n",
            "54149/54149 [==============================] - 2s 46us/sample - loss: 0.0898 - val_loss: 0.0907\n",
            "Epoch 40/80\n",
            "54149/54149 [==============================] - 2s 46us/sample - loss: 0.0897 - val_loss: 0.0906\n",
            "Epoch 41/80\n",
            "54149/54149 [==============================] - 2s 46us/sample - loss: 0.0897 - val_loss: 0.0907\n",
            "Epoch 42/80\n",
            "54149/54149 [==============================] - 2s 46us/sample - loss: 0.0897 - val_loss: 0.0907\n",
            "Epoch 43/80\n",
            "54149/54149 [==============================] - 2s 45us/sample - loss: 0.0897 - val_loss: 0.0906\n",
            "Epoch 44/80\n",
            "54149/54149 [==============================] - 3s 46us/sample - loss: 0.0897 - val_loss: 0.0906\n",
            "Epoch 45/80\n",
            "54149/54149 [==============================] - 3s 46us/sample - loss: 0.0897 - val_loss: 0.0906\n",
            "Epoch 46/80\n",
            "54149/54149 [==============================] - 3s 46us/sample - loss: 0.0896 - val_loss: 0.0906\n",
            "Epoch 47/80\n",
            "54149/54149 [==============================] - 2s 46us/sample - loss: 0.0897 - val_loss: 0.0906\n",
            "Epoch 48/80\n",
            "54149/54149 [==============================] - 3s 47us/sample - loss: 0.0896 - val_loss: 0.0906\n",
            "Epoch 49/80\n",
            "54149/54149 [==============================] - 2s 46us/sample - loss: 0.0896 - val_loss: 0.0906\n",
            "Epoch 50/80\n",
            "54149/54149 [==============================] - 3s 46us/sample - loss: 0.0896 - val_loss: 0.0906\n",
            "Epoch 51/80\n",
            "54149/54149 [==============================] - 3s 46us/sample - loss: 0.0896 - val_loss: 0.0906\n",
            "Epoch 52/80\n",
            "54149/54149 [==============================] - 2s 46us/sample - loss: 0.0896 - val_loss: 0.0905\n",
            "Epoch 53/80\n",
            "54149/54149 [==============================] - 2s 46us/sample - loss: 0.0896 - val_loss: 0.0905\n",
            "Epoch 54/80\n",
            "54149/54149 [==============================] - 3s 47us/sample - loss: 0.0896 - val_loss: 0.0906\n",
            "Epoch 55/80\n",
            "54149/54149 [==============================] - 3s 47us/sample - loss: 0.0896 - val_loss: 0.0906\n",
            "Epoch 56/80\n",
            "54149/54149 [==============================] - 3s 48us/sample - loss: 0.0895 - val_loss: 0.0905\n",
            "Epoch 57/80\n",
            "54149/54149 [==============================] - 3s 46us/sample - loss: 0.0895 - val_loss: 0.0905\n",
            "Epoch 58/80\n",
            "54149/54149 [==============================] - 3s 47us/sample - loss: 0.0895 - val_loss: 0.0905\n",
            "Epoch 59/80\n",
            "54149/54149 [==============================] - 3s 47us/sample - loss: 0.0895 - val_loss: 0.0907\n",
            "Epoch 60/80\n",
            "54149/54149 [==============================] - 3s 48us/sample - loss: 0.0895 - val_loss: 0.0905\n",
            "Epoch 61/80\n",
            "54149/54149 [==============================] - 3s 47us/sample - loss: 0.0895 - val_loss: 0.0905\n",
            "Epoch 62/80\n",
            "54149/54149 [==============================] - 3s 47us/sample - loss: 0.0895 - val_loss: 0.0905\n",
            "Epoch 63/80\n",
            "54149/54149 [==============================] - 3s 47us/sample - loss: 0.0895 - val_loss: 0.0905\n",
            "Epoch 64/80\n",
            "54149/54149 [==============================] - 3s 47us/sample - loss: 0.0895 - val_loss: 0.0906\n",
            "Epoch 65/80\n",
            "54149/54149 [==============================] - 3s 47us/sample - loss: 0.0895 - val_loss: 0.0904\n",
            "Epoch 66/80\n",
            "54149/54149 [==============================] - 3s 47us/sample - loss: 0.0895 - val_loss: 0.0905\n",
            "Epoch 67/80\n",
            "54149/54149 [==============================] - 3s 48us/sample - loss: 0.0895 - val_loss: 0.0904\n",
            "Epoch 68/80\n",
            "54149/54149 [==============================] - 3s 48us/sample - loss: 0.0895 - val_loss: 0.0905\n",
            "Epoch 69/80\n",
            "54149/54149 [==============================] - 3s 48us/sample - loss: 0.0894 - val_loss: 0.0904\n",
            "Epoch 70/80\n",
            "54149/54149 [==============================] - 3s 47us/sample - loss: 0.0894 - val_loss: 0.0904\n",
            "Epoch 71/80\n",
            "54149/54149 [==============================] - 3s 47us/sample - loss: 0.0894 - val_loss: 0.0904\n",
            "Epoch 72/80\n",
            "54149/54149 [==============================] - 3s 47us/sample - loss: 0.0894 - val_loss: 0.0905\n",
            "Epoch 73/80\n",
            "54149/54149 [==============================] - 3s 47us/sample - loss: 0.0894 - val_loss: 0.0905\n",
            "Epoch 74/80\n",
            "54149/54149 [==============================] - 3s 48us/sample - loss: 0.0894 - val_loss: 0.0904\n",
            "Epoch 75/80\n",
            "54149/54149 [==============================] - 3s 48us/sample - loss: 0.0894 - val_loss: 0.0904\n",
            "Epoch 76/80\n",
            "54149/54149 [==============================] - 3s 47us/sample - loss: 0.0894 - val_loss: 0.0904\n",
            "Epoch 77/80\n",
            "54149/54149 [==============================] - 3s 46us/sample - loss: 0.0894 - val_loss: 0.0904\n",
            "Epoch 78/80\n",
            "54149/54149 [==============================] - 3s 47us/sample - loss: 0.0894 - val_loss: 0.0904\n",
            "Epoch 79/80\n",
            "54149/54149 [==============================] - 3s 48us/sample - loss: 0.0894 - val_loss: 0.0904\n",
            "Epoch 80/80\n",
            "54149/54149 [==============================] - 3s 47us/sample - loss: 0.0894 - val_loss: 0.0904\n"
          ]
        },
        {
          "output_type": "display_data",
          "data": {
            "image/png": "[encoded data removed]",
            "text/plain": [
              "<Figure size 432x288 with 1 Axes>"
            ]
          },
          "metadata": {
            "needs_background": "light"
          }
        },
        {
          "output_type": "stream",
          "name": "stderr",
          "text": [
            "/usr/local/lib/python3.7/dist-packages/keras/engine/training_v1.py:2079: UserWarning: `Model.state_updates` will be removed in a future version. This property should not be used in TensorFlow 2.0, as `updates` are applied automatically.\n",
            "  updates=self.state_updates,\n"
          ]
        }
      ],
      "source": [
        "decoded_imgs_2 = simple_autoencoder(X_train_2,X_test_2,80)"
      ]
    },
    {
      "cell_type": "code",
      "execution_count": null,
      "metadata": {
        "id": "zwifKJ5zDyDs"
      },
      "outputs": [],
      "source": [
        "# Measure the error between the reconstruction and the original image\n",
        "mse_s_2 = cal_mse(decoded_imgs_2, X_test_2) "
      ]
    },
    {
      "cell_type": "code",
      "execution_count": null,
      "metadata": {
        "colab": {
          "base_uri": "https://localhost:8080/"
        },
        "id": "qGccz3DzDx8W",
        "outputId": "0e430a8c-792a-44e1-ddc8-377ae086a250"
      },
      "outputs": [
        {
          "output_type": "stream",
          "name": "stdout",
          "text": [
            "[INFO] mse threshold: 0.02059442044368812\n",
            "[INFO] 452 outliers found\n"
          ]
        }
      ],
      "source": [
        "thresh_2 = np.quantile(mse_s_2, 1/(1+contam))\n",
        "idxs_2 = np.where(np.array(mse_s_2) >= thresh_2)[0]\n",
        "print(\"[INFO] mse threshold: {}\".format(thresh_2))\n",
        "print(\"[INFO] {} outliers found\".format(len(idxs_2)))"
      ]
    },
    {
      "cell_type": "code",
      "execution_count": null,
      "metadata": {
        "colab": {
          "base_uri": "https://localhost:8080/"
        },
        "id": "S6JrjE45Dx6H",
        "outputId": "16400b64-0e8c-4510-fa5a-db63cfb081ca"
      },
      "outputs": [
        {
          "output_type": "stream",
          "name": "stdout",
          "text": [
            "[1 1 1 ... 1 1 1]\n",
            "[1 1 1 ... 8 8 8]\n"
          ]
        }
      ],
      "source": [
        "# Predicted Y\n",
        "# We set all the normal digits as 1 to simplify the comparison\n",
        "Y_pred_2 = np.array([1]*len(Y_test_2))\n",
        "Y_pred_2[idxs_2] = 8\n",
        "print(Y_pred_2)\n",
        "\n",
        "Y_test_2_ = Y_test_2.copy()\n",
        "Y_test_2_[Y_test_2_ != 8] = 1\n",
        "print(Y_test_2_)"
      ]
    },
    {
      "cell_type": "code",
      "execution_count": null,
      "metadata": {
        "colab": {
          "base_uri": "https://localhost:8080/"
        },
        "id": "C2blOiJJES6B",
        "outputId": "6eb96df6-e8dc-4b5f-f64f-c924a6e1d926"
      },
      "outputs": [
        {
          "output_type": "stream",
          "name": "stdout",
          "text": [
            "[[8738  288]\n",
            " [ 287  164]]\n",
            "              precision    recall  f1-score   support\n",
            "\n",
            "           1       0.97      0.97      0.97      9026\n",
            "           8       0.36      0.36      0.36       451\n",
            "\n",
            "    accuracy                           0.94      9477\n",
            "   macro avg       0.67      0.67      0.67      9477\n",
            "weighted avg       0.94      0.94      0.94      9477\n",
            "\n"
          ]
        }
      ],
      "source": [
        "print(confusion_matrix(Y_test_2_, Y_pred_2))\n",
        "print(classification_report(Y_test_2_, Y_pred_2))"
      ]
    },
    {
      "cell_type": "markdown",
      "metadata": {
        "id": "yxHiGjSfdF11"
      },
      "source": [
        "###Deep fully-connected autoencoder"
      ]
    },
    {
      "cell_type": "code",
      "execution_count": null,
      "metadata": {
        "colab": {
          "base_uri": "https://localhost:8080/"
        },
        "id": "k4TbNWTQFxtX",
        "outputId": "a247ec24-2e3c-4ba3-e4ee-27d6d30184ff"
      },
      "outputs": [
        {
          "output_type": "stream",
          "name": "stdout",
          "text": [
            "Train on 54149 samples, validate on 9477 samples\n",
            "Epoch 1/50\n",
            "53504/54149 [============================>.] - ETA: 0s - loss: 0.2496"
          ]
        },
        {
          "output_type": "stream",
          "name": "stderr",
          "text": [
            "/usr/local/lib/python3.7/dist-packages/keras/engine/training_v1.py:2057: UserWarning: `Model.state_updates` will be removed in a future version. This property should not be used in TensorFlow 2.0, as `updates` are applied automatically.\n",
            "  updates = self.state_updates\n"
          ]
        },
        {
          "output_type": "stream",
          "name": "stdout",
          "text": [
            "54149/54149 [==============================] - 5s 92us/sample - loss: 0.2486 - val_loss: 0.1694\n",
            "Epoch 2/50\n",
            "54149/54149 [==============================] - 4s 65us/sample - loss: 0.1522 - val_loss: 0.1401\n",
            "Epoch 3/50\n",
            "54149/54149 [==============================] - 4s 65us/sample - loss: 0.1315 - val_loss: 0.1270\n",
            "Epoch 4/50\n",
            "54149/54149 [==============================] - 4s 65us/sample - loss: 0.1214 - val_loss: 0.1195\n",
            "Epoch 5/50\n",
            "54149/54149 [==============================] - 4s 65us/sample - loss: 0.1152 - val_loss: 0.1143\n",
            "Epoch 6/50\n",
            "54149/54149 [==============================] - 3s 64us/sample - loss: 0.1105 - val_loss: 0.1098\n",
            "Epoch 7/50\n",
            "54149/54149 [==============================] - 3s 64us/sample - loss: 0.1067 - val_loss: 0.1065\n",
            "Epoch 8/50\n",
            "54149/54149 [==============================] - 3s 64us/sample - loss: 0.1039 - val_loss: 0.1046\n",
            "Epoch 9/50\n",
            "54149/54149 [==============================] - 4s 65us/sample - loss: 0.1017 - val_loss: 0.1021\n",
            "Epoch 10/50\n",
            "54149/54149 [==============================] - 4s 65us/sample - loss: 0.0998 - val_loss: 0.1003\n",
            "Epoch 11/50\n",
            "54149/54149 [==============================] - 4s 65us/sample - loss: 0.0982 - val_loss: 0.0995\n",
            "Epoch 12/50\n",
            "54149/54149 [==============================] - 4s 66us/sample - loss: 0.0970 - val_loss: 0.0981\n",
            "Epoch 13/50\n",
            "54149/54149 [==============================] - 4s 65us/sample - loss: 0.0960 - val_loss: 0.0984\n",
            "Epoch 14/50\n",
            "54149/54149 [==============================] - 4s 66us/sample - loss: 0.0950 - val_loss: 0.0961\n",
            "Epoch 15/50\n",
            "54149/54149 [==============================] - 4s 65us/sample - loss: 0.0940 - val_loss: 0.0950\n",
            "Epoch 16/50\n",
            "54149/54149 [==============================] - 4s 67us/sample - loss: 0.0932 - val_loss: 0.0942\n",
            "Epoch 17/50\n",
            "54149/54149 [==============================] - 4s 66us/sample - loss: 0.0923 - val_loss: 0.0934\n",
            "Epoch 18/50\n",
            "54149/54149 [==============================] - 4s 66us/sample - loss: 0.0916 - val_loss: 0.0928\n",
            "Epoch 19/50\n",
            "54149/54149 [==============================] - 4s 65us/sample - loss: 0.0909 - val_loss: 0.0921\n",
            "Epoch 20/50\n",
            "54149/54149 [==============================] - 4s 65us/sample - loss: 0.0903 - val_loss: 0.0918\n",
            "Epoch 21/50\n",
            "54149/54149 [==============================] - 4s 65us/sample - loss: 0.0897 - val_loss: 0.0910\n",
            "Epoch 22/50\n",
            "54149/54149 [==============================] - 4s 66us/sample - loss: 0.0892 - val_loss: 0.0904\n",
            "Epoch 23/50\n",
            "54149/54149 [==============================] - 4s 65us/sample - loss: 0.0886 - val_loss: 0.0899\n",
            "Epoch 24/50\n",
            "54149/54149 [==============================] - 4s 66us/sample - loss: 0.0882 - val_loss: 0.0896\n",
            "Epoch 25/50\n",
            "54149/54149 [==============================] - 4s 65us/sample - loss: 0.0877 - val_loss: 0.0888\n",
            "Epoch 26/50\n",
            "54149/54149 [==============================] - 3s 64us/sample - loss: 0.0873 - val_loss: 0.0888\n",
            "Epoch 27/50\n",
            "54149/54149 [==============================] - 4s 65us/sample - loss: 0.0868 - val_loss: 0.0879\n",
            "Epoch 28/50\n",
            "54149/54149 [==============================] - 4s 65us/sample - loss: 0.0865 - val_loss: 0.0879\n",
            "Epoch 29/50\n",
            "54149/54149 [==============================] - 4s 65us/sample - loss: 0.0861 - val_loss: 0.0875\n",
            "Epoch 30/50\n",
            "54149/54149 [==============================] - 3s 65us/sample - loss: 0.0857 - val_loss: 0.0870\n",
            "Epoch 31/50\n",
            "54149/54149 [==============================] - 4s 65us/sample - loss: 0.0854 - val_loss: 0.0864\n",
            "Epoch 32/50\n",
            "54149/54149 [==============================] - 4s 65us/sample - loss: 0.0851 - val_loss: 0.0863\n",
            "Epoch 33/50\n",
            "54149/54149 [==============================] - 4s 66us/sample - loss: 0.0848 - val_loss: 0.0860\n",
            "Epoch 34/50\n",
            "54149/54149 [==============================] - 4s 65us/sample - loss: 0.0845 - val_loss: 0.0857\n",
            "Epoch 35/50\n",
            "54149/54149 [==============================] - 3s 64us/sample - loss: 0.0843 - val_loss: 0.0856\n",
            "Epoch 36/50\n",
            "54149/54149 [==============================] - 3s 64us/sample - loss: 0.0841 - val_loss: 0.0854\n",
            "Epoch 37/50\n",
            "54149/54149 [==============================] - 4s 65us/sample - loss: 0.0839 - val_loss: 0.0851\n",
            "Epoch 38/50\n",
            "54149/54149 [==============================] - 4s 65us/sample - loss: 0.0836 - val_loss: 0.0849\n",
            "Epoch 39/50\n",
            "54149/54149 [==============================] - 3s 64us/sample - loss: 0.0835 - val_loss: 0.0847\n",
            "Epoch 40/50\n",
            "54149/54149 [==============================] - 4s 65us/sample - loss: 0.0833 - val_loss: 0.0847\n",
            "Epoch 41/50\n",
            "54149/54149 [==============================] - 4s 66us/sample - loss: 0.0831 - val_loss: 0.0846\n",
            "Epoch 42/50\n",
            "54149/54149 [==============================] - 4s 65us/sample - loss: 0.0829 - val_loss: 0.0845\n",
            "Epoch 43/50\n",
            "54149/54149 [==============================] - 4s 65us/sample - loss: 0.0828 - val_loss: 0.0841\n",
            "Epoch 44/50\n",
            "54149/54149 [==============================] - 4s 65us/sample - loss: 0.0827 - val_loss: 0.0839\n",
            "Epoch 45/50\n",
            "54149/54149 [==============================] - 4s 65us/sample - loss: 0.0825 - val_loss: 0.0839\n",
            "Epoch 46/50\n",
            "54149/54149 [==============================] - 4s 67us/sample - loss: 0.0824 - val_loss: 0.0839\n",
            "Epoch 47/50\n",
            "54149/54149 [==============================] - 3s 64us/sample - loss: 0.0822 - val_loss: 0.0837\n",
            "Epoch 48/50\n",
            "54149/54149 [==============================] - 4s 66us/sample - loss: 0.0821 - val_loss: 0.0834\n",
            "Epoch 49/50\n",
            "54149/54149 [==============================] - 4s 66us/sample - loss: 0.0819 - val_loss: 0.0834\n",
            "Epoch 50/50\n",
            "54149/54149 [==============================] - 4s 66us/sample - loss: 0.0818 - val_loss: 0.0831\n"
          ]
        },
        {
          "output_type": "display_data",
          "data": {
            "image/png": "[encoded data removed]",
            "text/plain": [
              "<Figure size 432x288 with 1 Axes>"
            ]
          },
          "metadata": {
            "needs_background": "light"
          }
        },
        {
          "output_type": "stream",
          "name": "stderr",
          "text": [
            "/usr/local/lib/python3.7/dist-packages/keras/engine/training_v1.py:2079: UserWarning: `Model.state_updates` will be removed in a future version. This property should not be used in TensorFlow 2.0, as `updates` are applied automatically.\n",
            "  updates=self.state_updates,\n"
          ]
        }
      ],
      "source": [
        "X_pred_d_2 = deep_autoencoder(X_train_2,X_test_2,50)"
      ]
    },
    {
      "cell_type": "code",
      "execution_count": null,
      "metadata": {
        "id": "U1qUpcbGeW1o"
      },
      "outputs": [],
      "source": [
        "# Measure the error between the reconstruction and the original image\n",
        "mse_d_2 = cal_mse(X_pred_d_2, X_test_2) "
      ]
    },
    {
      "cell_type": "code",
      "execution_count": null,
      "metadata": {
        "colab": {
          "base_uri": "https://localhost:8080/"
        },
        "id": "UJJuwT5pefp-",
        "outputId": "1b150dd6-202a-47b2-eec7-381e4fb80196"
      },
      "outputs": [
        {
          "output_type": "stream",
          "name": "stdout",
          "text": [
            "[INFO] mse threshold: 0.01681552437089738\n",
            "[INFO] 452 outliers found\n"
          ]
        }
      ],
      "source": [
        "thresh_d_2 = np.quantile(mse_d_2, 1/(1+contam))\n",
        "idxs_d_2 = np.where(np.array(mse_d_2) >= thresh_d_2)[0]\n",
        "print(\"[INFO] mse threshold: {}\".format(thresh_d_2))\n",
        "print(\"[INFO] {} outliers found\".format(len(idxs_d_2)))"
      ]
    },
    {
      "cell_type": "code",
      "execution_count": null,
      "metadata": {
        "colab": {
          "base_uri": "https://localhost:8080/"
        },
        "id": "NZTBwQexe4-v",
        "outputId": "2eb40596-93a6-47d7-81f2-c9f52989a177"
      },
      "outputs": [
        {
          "output_type": "stream",
          "name": "stdout",
          "text": [
            "[1 1 1 ... 1 1 1]\n",
            "[1 1 1 ... 8 8 8]\n"
          ]
        }
      ],
      "source": [
        "# Predicted Y\n",
        "# We set all the normal digits as 1 to simplify the comparison\n",
        "Y_pred_d_2 = np.array([1]*len(Y_test_2))\n",
        "Y_pred_d_2[idxs_d_2] = 8\n",
        "print(Y_pred_d_2)\n",
        "\n",
        "Y_test_2_ = Y_test_2.copy()\n",
        "Y_test_2_[Y_test_2_ != 8] = 1\n",
        "print(Y_test_2_)\n"
      ]
    },
    {
      "cell_type": "code",
      "execution_count": null,
      "metadata": {
        "colab": {
          "base_uri": "https://localhost:8080/"
        },
        "id": "gu8k9mf-fCMW",
        "outputId": "458eac31-8153-4d64-cbe4-04951abe3d40"
      },
      "outputs": [
        {
          "output_type": "stream",
          "name": "stdout",
          "text": [
            "[[8726  300]\n",
            " [ 299  152]]\n"
          ]
        }
      ],
      "source": [
        "print(confusion_matrix(Y_test_2_, Y_pred_d_2))"
      ]
    },
    {
      "cell_type": "code",
      "execution_count": null,
      "metadata": {
        "colab": {
          "base_uri": "https://localhost:8080/"
        },
        "id": "xkpu_-KPfDA7",
        "outputId": "1ad2766d-01d8-44f1-aee3-251c9d5cb45e"
      },
      "outputs": [
        {
          "output_type": "stream",
          "name": "stdout",
          "text": [
            "              precision    recall  f1-score   support\n",
            "\n",
            "           1       0.97      0.97      0.97      9026\n",
            "           8       0.34      0.34      0.34       451\n",
            "\n",
            "    accuracy                           0.94      9477\n",
            "   macro avg       0.65      0.65      0.65      9477\n",
            "weighted avg       0.94      0.94      0.94      9477\n",
            "\n"
          ]
        }
      ],
      "source": [
        "print(classification_report(Y_test_2_, Y_pred_d_2))"
      ]
    },
    {
      "cell_type": "markdown",
      "metadata": {
        "id": "ewzCLnpAdewv"
      },
      "source": [
        "###Variational autoencoder"
      ]
    },
    {
      "cell_type": "code",
      "execution_count": null,
      "metadata": {
        "colab": {
          "base_uri": "https://localhost:8080/"
        },
        "id": "uQyIY09ndlhj",
        "outputId": "7c930fc4-ec59-4fde-b6e7-28646a158edb"
      },
      "outputs": [
        {
          "output_type": "stream",
          "name": "stdout",
          "text": [
            "Train on 54149 samples, validate on 9477 samples\n",
            "Epoch 1/32\n",
            "54016/54149 [============================>.] - ETA: 0s - loss: 5581.8201"
          ]
        },
        {
          "output_type": "stream",
          "name": "stderr",
          "text": [
            "/usr/local/lib/python3.7/dist-packages/keras/engine/training_v1.py:2057: UserWarning: `Model.state_updates` will be removed in a future version. This property should not be used in TensorFlow 2.0, as `updates` are applied automatically.\n",
            "  updates = self.state_updates\n"
          ]
        },
        {
          "output_type": "stream",
          "name": "stdout",
          "text": [
            "54149/54149 [==============================] - 11s 195us/sample - loss: 5573.1758 - val_loss: 3659.6810\n",
            "Epoch 2/32\n",
            "54149/54149 [==============================] - 10s 187us/sample - loss: 3086.2864 - val_loss: 2666.0221\n",
            "Epoch 3/32\n",
            "54149/54149 [==============================] - 10s 189us/sample - loss: 2415.3582 - val_loss: 2201.5467\n",
            "Epoch 4/32\n",
            "54149/54149 [==============================] - 10s 189us/sample - loss: 2073.6921 - val_loss: 1948.5889\n",
            "Epoch 5/32\n",
            "54149/54149 [==============================] - 10s 189us/sample - loss: 1865.6378 - val_loss: 1772.8024\n",
            "Epoch 6/32\n",
            "54149/54149 [==============================] - 10s 188us/sample - loss: 1717.7874 - val_loss: 1652.9611\n",
            "Epoch 7/32\n",
            "54149/54149 [==============================] - 10s 187us/sample - loss: 1606.5277 - val_loss: 1548.2914\n",
            "Epoch 8/32\n",
            "54149/54149 [==============================] - 10s 187us/sample - loss: 1515.6964 - val_loss: 1470.4845\n",
            "Epoch 9/32\n",
            "54149/54149 [==============================] - 10s 184us/sample - loss: 1445.3962 - val_loss: 1407.4151\n",
            "Epoch 10/32\n",
            "54149/54149 [==============================] - 10s 187us/sample - loss: 1386.5589 - val_loss: 1351.5940\n",
            "Epoch 11/32\n",
            "54149/54149 [==============================] - 10s 187us/sample - loss: 1336.8839 - val_loss: 1305.7432\n",
            "Epoch 12/32\n",
            "54149/54149 [==============================] - 10s 187us/sample - loss: 1291.6371 - val_loss: 1263.8778\n",
            "Epoch 13/32\n",
            "54149/54149 [==============================] - 10s 187us/sample - loss: 1253.6071 - val_loss: 1230.7905\n",
            "Epoch 14/32\n",
            "54149/54149 [==============================] - 10s 187us/sample - loss: 1220.9053 - val_loss: 1197.0513\n",
            "Epoch 15/32\n",
            "54149/54149 [==============================] - 10s 187us/sample - loss: 1188.7720 - val_loss: 1169.0627\n",
            "Epoch 16/32\n",
            "54149/54149 [==============================] - 10s 186us/sample - loss: 1161.0371 - val_loss: 1141.2720\n",
            "Epoch 17/32\n",
            "54149/54149 [==============================] - 10s 186us/sample - loss: 1135.5935 - val_loss: 1117.1194\n",
            "Epoch 18/32\n",
            "54149/54149 [==============================] - 10s 187us/sample - loss: 1113.1984 - val_loss: 1094.6944\n",
            "Epoch 19/32\n",
            "54149/54149 [==============================] - 10s 186us/sample - loss: 1092.6514 - val_loss: 1074.7860\n",
            "Epoch 20/32\n",
            "54149/54149 [==============================] - 10s 186us/sample - loss: 1072.4203 - val_loss: 1056.8187\n",
            "Epoch 21/32\n",
            "54149/54149 [==============================] - 10s 186us/sample - loss: 1053.2885 - val_loss: 1036.3152\n",
            "Epoch 22/32\n",
            "54149/54149 [==============================] - 10s 186us/sample - loss: 1036.9873 - val_loss: 1021.0780\n",
            "Epoch 23/32\n",
            "54149/54149 [==============================] - 10s 186us/sample - loss: 1020.0750 - val_loss: 1006.3171\n",
            "Epoch 24/32\n",
            "54149/54149 [==============================] - 10s 187us/sample - loss: 1004.7743 - val_loss: 993.8717\n",
            "Epoch 25/32\n",
            "54149/54149 [==============================] - 10s 185us/sample - loss: 992.0673 - val_loss: 977.3169\n",
            "Epoch 26/32\n",
            "54149/54149 [==============================] - 10s 185us/sample - loss: 979.6306 - val_loss: 966.9984\n",
            "Epoch 27/32\n",
            "54149/54149 [==============================] - 10s 185us/sample - loss: 967.9808 - val_loss: 955.5143\n",
            "Epoch 28/32\n",
            "54149/54149 [==============================] - 10s 186us/sample - loss: 956.5285 - val_loss: 944.5246\n",
            "Epoch 29/32\n",
            "54149/54149 [==============================] - 10s 188us/sample - loss: 946.8640 - val_loss: 934.5886\n",
            "Epoch 30/32\n",
            "54149/54149 [==============================] - 10s 190us/sample - loss: 937.0453 - val_loss: 929.4179\n",
            "Epoch 31/32\n",
            "54149/54149 [==============================] - 10s 187us/sample - loss: 928.2644 - val_loss: 916.9092\n",
            "Epoch 32/32\n",
            "54149/54149 [==============================] - 10s 189us/sample - loss: 918.9019 - val_loss: 907.1158\n"
          ]
        }
      ],
      "source": [
        "#We use the variational autoencoder that we built before\n",
        "results_v_2 = vae_model.fit(X_train_2, X_train_2,\n",
        "                        shuffle=True,\n",
        "                        epochs=32,\n",
        "                        batch_size=256,\n",
        "                        validation_data=(X_test_2, X_test_2))"
      ]
    },
    {
      "cell_type": "code",
      "execution_count": null,
      "metadata": {
        "colab": {
          "base_uri": "https://localhost:8080/"
        },
        "id": "mM69F9TWd7AD",
        "outputId": "a5d2e4e6-75d3-4435-c196-9f82b2b8b5a6"
      },
      "outputs": [
        {
          "output_type": "display_data",
          "data": {
            "image/png": "[encoded data removed]",
            "text/plain": [
              "<Figure size 432x288 with 1 Axes>"
            ]
          },
          "metadata": {
            "needs_background": "light"
          }
        }
      ],
      "source": [
        "#Plot the trend of loss\n",
        "plt.plot(results_v_2.history['loss'])\n",
        "plt.title('model loss')\n",
        "plt.ylabel('loss')\n",
        "plt.xlabel('epoch')\n",
        "plt.legend(['train', 'test'], loc='upper right');\n",
        "plt.show()"
      ]
    },
    {
      "cell_type": "code",
      "execution_count": null,
      "metadata": {
        "id": "xWBUBkgleJsN"
      },
      "outputs": [],
      "source": [
        "#Use the model trained to do prediction in test set\n",
        "X_pred_v_2 = vae_model.predict(X_test_2)"
      ]
    },
    {
      "cell_type": "code",
      "execution_count": null,
      "metadata": {
        "id": "cci4Fhr-eelE"
      },
      "outputs": [],
      "source": [
        "# Measure the error between the reconstruction and the original image\n",
        "mse_v_2 = cal_mse(X_pred_v_2, X_test_2) "
      ]
    },
    {
      "cell_type": "code",
      "execution_count": null,
      "metadata": {
        "colab": {
          "base_uri": "https://localhost:8080/"
        },
        "id": "7sE-7S2Xg79u",
        "outputId": "a42ad9ba-1bd4-42d8-8f26-3af8cc330fed"
      },
      "outputs": [
        {
          "output_type": "stream",
          "name": "stdout",
          "text": [
            "[INFO] mse threshold: 0.008005526892486072\n",
            "[INFO] 452 outliers found\n"
          ]
        }
      ],
      "source": [
        "#Define the anomaly threshold by 0.91 because anaomalies represent 9% of the whole dataset\n",
        "thresh_v_2 = np.quantile(mse_v_2, 1/(1+contam))\n",
        "idxs_v_2 = np.where(np.array(mse_v_2) >= thresh_v_2)[0]\n",
        "print(\"[INFO] mse threshold: {}\".format(thresh_v_2))\n",
        "print(\"[INFO] {} outliers found\".format(len(idxs_v_2)))"
      ]
    },
    {
      "cell_type": "code",
      "execution_count": null,
      "metadata": {
        "colab": {
          "base_uri": "https://localhost:8080/"
        },
        "id": "xICK6U-8hI-B",
        "outputId": "a160870f-1b2a-4cf8-92b8-8a8d2ace1224"
      },
      "outputs": [
        {
          "output_type": "stream",
          "name": "stdout",
          "text": [
            "[1 1 1 ... 8 8 8]\n"
          ]
        }
      ],
      "source": [
        "# Predicted Y\n",
        "# We set all the normal digits as 1 to simplify the comparison\n",
        "Y_pred_v_2 = np.array([1]*len(Y_test_2))\n",
        "Y_pred_v_2[idxs_v_2] = 8\n",
        "Y_pred_v_2\n",
        "\n",
        "Y_test_2_ = Y_test_2.copy()\n",
        "Y_test_2_[Y_test_2_ != 8] = 1\n",
        "print(Y_test_2_)"
      ]
    },
    {
      "cell_type": "code",
      "execution_count": null,
      "metadata": {
        "colab": {
          "base_uri": "https://localhost:8080/"
        },
        "id": "IPdyqZf7hSzs",
        "outputId": "48726662-9aee-4bf7-b259-7c1378b0938c"
      },
      "outputs": [
        {
          "output_type": "stream",
          "name": "stdout",
          "text": [
            "[[8601  425]\n",
            " [ 424   27]]\n",
            "              precision    recall  f1-score   support\n",
            "\n",
            "           1       0.95      0.95      0.95      9026\n",
            "           8       0.06      0.06      0.06       451\n",
            "\n",
            "    accuracy                           0.91      9477\n",
            "   macro avg       0.51      0.51      0.51      9477\n",
            "weighted avg       0.91      0.91      0.91      9477\n",
            "\n"
          ]
        }
      ],
      "source": [
        "print(confusion_matrix(Y_test_2_, Y_pred_v_2))\n",
        "print(classification_report(Y_test_2_, Y_pred_v_2))"
      ]
    },
    {
      "cell_type": "markdown",
      "metadata": {
        "id": "2KHF1fPcsS2S"
      },
      "source": [
        "# Fashion Mnist"
      ]
    },
    {
      "cell_type": "markdown",
      "metadata": {
        "id": "GvZXMwd2s4UX"
      },
      "source": [
        "### Load the fashion minist dataset"
      ]
    },
    {
      "cell_type": "code",
      "execution_count": null,
      "metadata": {
        "id": "S4tQyTl1sSXe"
      },
      "outputs": [],
      "source": [
        "# Load Fashion-MNIST data\n",
        "from tensorflow.keras.datasets import fashion_mnist\n",
        "(x_train, y_train), (x_test, y_test) = fashion_mnist.load_data()"
      ]
    },
    {
      "cell_type": "code",
      "execution_count": null,
      "metadata": {
        "colab": {
          "base_uri": "https://localhost:8080/"
        },
        "id": "oxyw4GAas2K5",
        "outputId": "f4e3f3fb-0334-482d-f30b-8a257b22c85b"
      },
      "outputs": [
        {
          "output_type": "stream",
          "name": "stdout",
          "text": [
            "Fashion MNIST Dataset Shape:\n",
            "x_train: (60000, 28, 28)\n",
            "y_train: (60000,)\n",
            "x_test:  (10000, 28, 28)\n",
            "y_test:  (10000,)\n"
          ]
        }
      ],
      "source": [
        "print('Fashion MNIST Dataset Shape:')\n",
        "print('x_train: ' + str(x_train.shape))\n",
        "print('y_train: ' + str(y_train.shape))\n",
        "print('x_test:  '  + str(x_test.shape))\n",
        "print('y_test:  '  + str(y_test.shape))"
      ]
    },
    {
      "cell_type": "markdown",
      "metadata": {
        "id": "6AkXcjYCACEV"
      },
      "source": [
        "Label\tDescription\n",
        "\n",
        "**0**\tT-shirt/top\n",
        "**1**\tTrouser\n",
        "**2**\tPullover\n",
        "**3**\tDress\n",
        "**4**\tCoat\n",
        "\n",
        "**5**\tSandal\n",
        "**6**\tShirt\n",
        "**7**\tSneaker\n",
        "**8**\tBag\n",
        "**9**\tAnkle boot"
      ]
    },
    {
      "cell_type": "code",
      "execution_count": null,
      "metadata": {
        "id": "91xXojwk_JHB"
      },
      "outputs": [],
      "source": [
        "validLabel3=1\n",
        "anomalyLabel3=7\n",
        "contam=0.05"
      ]
    },
    {
      "cell_type": "code",
      "execution_count": null,
      "metadata": {
        "colab": {
          "base_uri": "https://localhost:8080/"
        },
        "id": "uz6E17fEwH7l",
        "outputId": "cecef7e9-1abc-4a46-cd93-36ad4ee43072"
      },
      "outputs": [
        {
          "output_type": "stream",
          "name": "stdout",
          "text": [
            "(6000, 28, 28)\n",
            "(1050, 28, 28)\n",
            "(1050,)\n"
          ]
        }
      ],
      "source": [
        "X_train_3,Y_train_3 = build_X_train_nocontam(x_train,y_train,validLabel3)\n",
        "print(X_train_3.shape)\n",
        "(X_test_3, Y_test_3) = build_X_Y(x_test,y_test,validLabel3,anomalyLabel3,contam=0.05)\n",
        "print(X_test_3.shape)\n",
        "print(Y_test_3.shape)"
      ]
    },
    {
      "cell_type": "code",
      "execution_count": null,
      "metadata": {
        "colab": {
          "base_uri": "https://localhost:8080/"
        },
        "id": "xkUTeyjZmaCd",
        "outputId": "49b656f8-d62e-4fad-ceed-3a5e66d86203"
      },
      "outputs": [
        {
          "output_type": "stream",
          "name": "stdout",
          "text": [
            "(6000, 784)\n",
            "(1050, 784)\n"
          ]
        }
      ],
      "source": [
        "# Normalize dataset and flatten the matrix to a vector\n",
        "(X_train_3, X_test_3) = normal_img_2(X_train_3, X_test_3)\n",
        "print(X_train_3.shape)\n",
        "print(X_test_3.shape)"
      ]
    },
    {
      "cell_type": "markdown",
      "metadata": {
        "id": "Jl8zH0hqgJRh"
      },
      "source": [
        "### Simple autoencoder"
      ]
    },
    {
      "cell_type": "code",
      "execution_count": null,
      "metadata": {
        "colab": {
          "base_uri": "https://localhost:8080/"
        },
        "id": "LkuOQvKygTS_",
        "outputId": "7ed1b99e-c64b-4611-85f3-6e5727023272"
      },
      "outputs": [
        {
          "output_type": "stream",
          "name": "stdout",
          "text": [
            "Train on 6000 samples, validate on 1050 samples\n",
            "Epoch 1/50\n",
            "5888/6000 [============================>.] - ETA: 0s - loss: 0.5823"
          ]
        },
        {
          "output_type": "stream",
          "name": "stderr",
          "text": [
            "/usr/local/lib/python3.7/dist-packages/keras/engine/training_v1.py:2057: UserWarning: `Model.state_updates` will be removed in a future version. This property should not be used in TensorFlow 2.0, as `updates` are applied automatically.\n",
            "  updates = self.state_updates\n"
          ]
        },
        {
          "output_type": "stream",
          "name": "stdout",
          "text": [
            "6000/6000 [==============================] - 2s 285us/sample - loss: 0.5788 - val_loss: 0.3969\n",
            "Epoch 2/50\n",
            "6000/6000 [==============================] - 0s 48us/sample - loss: 0.3043 - val_loss: 0.2856\n",
            "Epoch 3/50\n",
            "6000/6000 [==============================] - 0s 45us/sample - loss: 0.2569 - val_loss: 0.2713\n",
            "Epoch 4/50\n",
            "6000/6000 [==============================] - 0s 50us/sample - loss: 0.2437 - val_loss: 0.2607\n",
            "Epoch 5/50\n",
            "6000/6000 [==============================] - 0s 48us/sample - loss: 0.2356 - val_loss: 0.2545\n",
            "Epoch 6/50\n",
            "6000/6000 [==============================] - 0s 47us/sample - loss: 0.2311 - val_loss: 0.2506\n",
            "Epoch 7/50\n",
            "6000/6000 [==============================] - 0s 50us/sample - loss: 0.2275 - val_loss: 0.2468\n",
            "Epoch 8/50\n",
            "6000/6000 [==============================] - 0s 47us/sample - loss: 0.2239 - val_loss: 0.2435\n",
            "Epoch 9/50\n",
            "6000/6000 [==============================] - 0s 48us/sample - loss: 0.2201 - val_loss: 0.2404\n",
            "Epoch 10/50\n",
            "6000/6000 [==============================] - 0s 48us/sample - loss: 0.2166 - val_loss: 0.2374\n",
            "Epoch 11/50\n",
            "6000/6000 [==============================] - 0s 48us/sample - loss: 0.2138 - val_loss: 0.2352\n",
            "Epoch 12/50\n",
            "6000/6000 [==============================] - 0s 48us/sample - loss: 0.2117 - val_loss: 0.2334\n",
            "Epoch 13/50\n",
            "6000/6000 [==============================] - 0s 46us/sample - loss: 0.2100 - val_loss: 0.2323\n",
            "Epoch 14/50\n",
            "6000/6000 [==============================] - 0s 53us/sample - loss: 0.2088 - val_loss: 0.2312\n",
            "Epoch 15/50\n",
            "6000/6000 [==============================] - 0s 51us/sample - loss: 0.2078 - val_loss: 0.2301\n",
            "Epoch 16/50\n",
            "6000/6000 [==============================] - 0s 50us/sample - loss: 0.2070 - val_loss: 0.2296\n",
            "Epoch 17/50\n",
            "6000/6000 [==============================] - 0s 49us/sample - loss: 0.2062 - val_loss: 0.2288\n",
            "Epoch 18/50\n",
            "6000/6000 [==============================] - 0s 49us/sample - loss: 0.2055 - val_loss: 0.2281\n",
            "Epoch 19/50\n",
            "6000/6000 [==============================] - 0s 48us/sample - loss: 0.2048 - val_loss: 0.2272\n",
            "Epoch 20/50\n",
            "6000/6000 [==============================] - 0s 47us/sample - loss: 0.2041 - val_loss: 0.2264\n",
            "Epoch 21/50\n",
            "6000/6000 [==============================] - 0s 50us/sample - loss: 0.2034 - val_loss: 0.2257\n",
            "Epoch 22/50\n",
            "6000/6000 [==============================] - 0s 50us/sample - loss: 0.2028 - val_loss: 0.2249\n",
            "Epoch 23/50\n",
            "6000/6000 [==============================] - 0s 46us/sample - loss: 0.2020 - val_loss: 0.2242\n",
            "Epoch 24/50\n",
            "6000/6000 [==============================] - 0s 48us/sample - loss: 0.2013 - val_loss: 0.2234\n",
            "Epoch 25/50\n",
            "6000/6000 [==============================] - 0s 51us/sample - loss: 0.2006 - val_loss: 0.2222\n",
            "Epoch 26/50\n",
            "6000/6000 [==============================] - 0s 48us/sample - loss: 0.1999 - val_loss: 0.2214\n",
            "Epoch 27/50\n",
            "6000/6000 [==============================] - 0s 48us/sample - loss: 0.1992 - val_loss: 0.2206\n",
            "Epoch 28/50\n",
            "6000/6000 [==============================] - 0s 47us/sample - loss: 0.1985 - val_loss: 0.2198\n",
            "Epoch 29/50\n",
            "6000/6000 [==============================] - 0s 48us/sample - loss: 0.1979 - val_loss: 0.2192\n",
            "Epoch 30/50\n",
            "6000/6000 [==============================] - 0s 50us/sample - loss: 0.1974 - val_loss: 0.2186\n",
            "Epoch 31/50\n",
            "6000/6000 [==============================] - 0s 48us/sample - loss: 0.1968 - val_loss: 0.2178\n",
            "Epoch 32/50\n",
            "6000/6000 [==============================] - 0s 48us/sample - loss: 0.1963 - val_loss: 0.2170\n",
            "Epoch 33/50\n",
            "6000/6000 [==============================] - 0s 48us/sample - loss: 0.1958 - val_loss: 0.2164\n",
            "Epoch 34/50\n",
            "6000/6000 [==============================] - 0s 53us/sample - loss: 0.1953 - val_loss: 0.2158\n",
            "Epoch 35/50\n",
            "6000/6000 [==============================] - 0s 51us/sample - loss: 0.1949 - val_loss: 0.2153\n",
            "Epoch 36/50\n",
            "6000/6000 [==============================] - 0s 48us/sample - loss: 0.1945 - val_loss: 0.2147\n",
            "Epoch 37/50\n",
            "6000/6000 [==============================] - 0s 49us/sample - loss: 0.1941 - val_loss: 0.2143\n",
            "Epoch 38/50\n",
            "6000/6000 [==============================] - 0s 48us/sample - loss: 0.1938 - val_loss: 0.2138\n",
            "Epoch 39/50\n",
            "6000/6000 [==============================] - 0s 50us/sample - loss: 0.1934 - val_loss: 0.2134\n",
            "Epoch 40/50\n",
            "6000/6000 [==============================] - 0s 50us/sample - loss: 0.1930 - val_loss: 0.2127\n",
            "Epoch 41/50\n",
            "6000/6000 [==============================] - 0s 48us/sample - loss: 0.1927 - val_loss: 0.2123\n",
            "Epoch 42/50\n",
            "6000/6000 [==============================] - 0s 55us/sample - loss: 0.1924 - val_loss: 0.2118\n",
            "Epoch 43/50\n",
            "6000/6000 [==============================] - 0s 49us/sample - loss: 0.1921 - val_loss: 0.2114\n",
            "Epoch 44/50\n",
            "6000/6000 [==============================] - 0s 48us/sample - loss: 0.1918 - val_loss: 0.2111\n",
            "Epoch 45/50\n",
            "6000/6000 [==============================] - 0s 53us/sample - loss: 0.1915 - val_loss: 0.2107\n",
            "Epoch 46/50\n",
            "6000/6000 [==============================] - 0s 50us/sample - loss: 0.1912 - val_loss: 0.2104\n",
            "Epoch 47/50\n",
            "6000/6000 [==============================] - 0s 48us/sample - loss: 0.1909 - val_loss: 0.2100\n",
            "Epoch 48/50\n",
            "6000/6000 [==============================] - 0s 56us/sample - loss: 0.1907 - val_loss: 0.2095\n",
            "Epoch 49/50\n",
            "6000/6000 [==============================] - 0s 49us/sample - loss: 0.1904 - val_loss: 0.2091\n",
            "Epoch 50/50\n",
            "6000/6000 [==============================] - 0s 48us/sample - loss: 0.1902 - val_loss: 0.2089\n"
          ]
        },
        {
          "output_type": "display_data",
          "data": {
            "image/png": "[encoded data removed]",
            "text/plain": [
              "<Figure size 432x288 with 1 Axes>"
            ]
          },
          "metadata": {
            "needs_background": "light"
          }
        },
        {
          "output_type": "stream",
          "name": "stderr",
          "text": [
            "/usr/local/lib/python3.7/dist-packages/keras/engine/training_v1.py:2079: UserWarning: `Model.state_updates` will be removed in a future version. This property should not be used in TensorFlow 2.0, as `updates` are applied automatically.\n",
            "  updates=self.state_updates,\n"
          ]
        }
      ],
      "source": [
        "X_pred_s_3 = simple_autoencoder(X_train_3,X_test_3,50)"
      ]
    },
    {
      "cell_type": "code",
      "execution_count": null,
      "metadata": {
        "id": "kfuevhClgdsa"
      },
      "outputs": [],
      "source": [
        "# Measure the error between the reconstruction and the original image\n",
        "mse_s_3 = cal_mse(X_pred_s_3, X_test_3)"
      ]
    },
    {
      "cell_type": "code",
      "execution_count": null,
      "metadata": {
        "colab": {
          "base_uri": "https://localhost:8080/"
        },
        "id": "Er9SDTSgg8O7",
        "outputId": "3a033ca3-ad9a-45c3-aa24-a3b91c57881c"
      },
      "outputs": [
        {
          "output_type": "stream",
          "name": "stdout",
          "text": [
            "[INFO] mse threshold: 0.08110042342117853\n",
            "[INFO] 50 outliers found\n"
          ]
        }
      ],
      "source": [
        "thresh_3_s = np.quantile(mse_s_3, 1/(1+contam))\n",
        "idxs_3_s = np.where(np.array(mse_s_3) >= thresh_3_s)[0]\n",
        "print(\"[INFO] mse threshold: {}\".format(thresh_3_s))\n",
        "print(\"[INFO] {} outliers found\".format(len(idxs_3_s)))"
      ]
    },
    {
      "cell_type": "code",
      "execution_count": null,
      "metadata": {
        "colab": {
          "base_uri": "https://localhost:8080/"
        },
        "id": "z7WqN-DZhQeF",
        "outputId": "a564d96d-a695-46b1-cf5d-391477d3e505"
      },
      "outputs": [
        {
          "output_type": "execute_result",
          "data": {
            "text/plain": [
              "array([1, 1, 1, ..., 7, 7, 7])"
            ]
          },
          "metadata": {},
          "execution_count": 296
        }
      ],
      "source": [
        "# Predicted Y\n",
        "Y_pred_3_s = np.array([1]*len(Y_test_3))\n",
        "Y_pred_3_s[idxs_3_s] = 7\n",
        "Y_pred_3_s"
      ]
    },
    {
      "cell_type": "code",
      "execution_count": null,
      "metadata": {
        "colab": {
          "base_uri": "https://localhost:8080/"
        },
        "id": "jCkrD-mwheuZ",
        "outputId": "4960b6c7-f6f1-4b3b-992f-18df6a4aa55b"
      },
      "outputs": [
        {
          "output_type": "stream",
          "name": "stdout",
          "text": [
            "[[998   2]\n",
            " [  2  48]]\n",
            "              precision    recall  f1-score   support\n",
            "\n",
            "           1       1.00      1.00      1.00      1000\n",
            "           7       0.96      0.96      0.96        50\n",
            "\n",
            "    accuracy                           1.00      1050\n",
            "   macro avg       0.98      0.98      0.98      1050\n",
            "weighted avg       1.00      1.00      1.00      1050\n",
            "\n"
          ]
        }
      ],
      "source": [
        "print(confusion_matrix(Y_test_3, Y_pred_3_s))\n",
        "print(classification_report(Y_test_3, Y_pred_3_s))"
      ]
    },
    {
      "cell_type": "markdown",
      "metadata": {
        "id": "Jo3Y8LuyKGsW"
      },
      "source": [
        "###Deep fully-connected autoencoder"
      ]
    },
    {
      "cell_type": "code",
      "execution_count": null,
      "metadata": {
        "colab": {
          "base_uri": "https://localhost:8080/"
        },
        "id": "9z6Z_TGDMQ1H",
        "outputId": "b9d79e94-6042-4662-cb7e-519fb1d6fa60"
      },
      "outputs": [
        {
          "output_type": "stream",
          "name": "stdout",
          "text": [
            "Train on 6000 samples, validate on 1050 samples\n",
            "Epoch 1/50\n",
            "5376/6000 [=========================>....] - ETA: 0s - loss: 0.4752"
          ]
        },
        {
          "output_type": "stream",
          "name": "stderr",
          "text": [
            "/usr/local/lib/python3.7/dist-packages/keras/engine/training_v1.py:2057: UserWarning: `Model.state_updates` will be removed in a future version. This property should not be used in TensorFlow 2.0, as `updates` are applied automatically.\n",
            "  updates = self.state_updates\n"
          ]
        },
        {
          "output_type": "stream",
          "name": "stdout",
          "text": [
            "6000/6000 [==============================] - 2s 306us/sample - loss: 0.4546 - val_loss: 0.2950\n",
            "Epoch 2/50\n",
            "6000/6000 [==============================] - 0s 66us/sample - loss: 0.2616 - val_loss: 0.2722\n",
            "Epoch 3/50\n",
            "6000/6000 [==============================] - 0s 61us/sample - loss: 0.2459 - val_loss: 0.2576\n",
            "Epoch 4/50\n",
            "6000/6000 [==============================] - 0s 63us/sample - loss: 0.2313 - val_loss: 0.2503\n",
            "Epoch 5/50\n",
            "6000/6000 [==============================] - 0s 66us/sample - loss: 0.2262 - val_loss: 0.2475\n",
            "Epoch 6/50\n",
            "6000/6000 [==============================] - 0s 62us/sample - loss: 0.2214 - val_loss: 0.2405\n",
            "Epoch 7/50\n",
            "6000/6000 [==============================] - 0s 65us/sample - loss: 0.2153 - val_loss: 0.2352\n",
            "Epoch 8/50\n",
            "6000/6000 [==============================] - 0s 62us/sample - loss: 0.2109 - val_loss: 0.2304\n",
            "Epoch 9/50\n",
            "6000/6000 [==============================] - 0s 64us/sample - loss: 0.2070 - val_loss: 0.2277\n",
            "Epoch 10/50\n",
            "6000/6000 [==============================] - 0s 69us/sample - loss: 0.2049 - val_loss: 0.2264\n",
            "Epoch 11/50\n",
            "6000/6000 [==============================] - 0s 69us/sample - loss: 0.2033 - val_loss: 0.2247\n",
            "Epoch 12/50\n",
            "6000/6000 [==============================] - 0s 65us/sample - loss: 0.2019 - val_loss: 0.2233\n",
            "Epoch 13/50\n",
            "6000/6000 [==============================] - 0s 70us/sample - loss: 0.2008 - val_loss: 0.2219\n",
            "Epoch 14/50\n",
            "6000/6000 [==============================] - 0s 65us/sample - loss: 0.1993 - val_loss: 0.2199\n",
            "Epoch 15/50\n",
            "6000/6000 [==============================] - 0s 68us/sample - loss: 0.1979 - val_loss: 0.2187\n",
            "Epoch 16/50\n",
            "6000/6000 [==============================] - 0s 68us/sample - loss: 0.1966 - val_loss: 0.2169\n",
            "Epoch 17/50\n",
            "6000/6000 [==============================] - 0s 64us/sample - loss: 0.1954 - val_loss: 0.2163\n",
            "Epoch 18/50\n",
            "6000/6000 [==============================] - 0s 66us/sample - loss: 0.1940 - val_loss: 0.2138\n",
            "Epoch 19/50\n",
            "6000/6000 [==============================] - 0s 65us/sample - loss: 0.1929 - val_loss: 0.2121\n",
            "Epoch 20/50\n",
            "6000/6000 [==============================] - 0s 71us/sample - loss: 0.1920 - val_loss: 0.2117\n",
            "Epoch 21/50\n",
            "6000/6000 [==============================] - 0s 65us/sample - loss: 0.1915 - val_loss: 0.2100\n",
            "Epoch 22/50\n",
            "6000/6000 [==============================] - 0s 66us/sample - loss: 0.1908 - val_loss: 0.2095\n",
            "Epoch 23/50\n",
            "6000/6000 [==============================] - 0s 70us/sample - loss: 0.1911 - val_loss: 0.2092\n",
            "Epoch 24/50\n",
            "6000/6000 [==============================] - 0s 64us/sample - loss: 0.1901 - val_loss: 0.2083\n",
            "Epoch 25/50\n",
            "6000/6000 [==============================] - 0s 68us/sample - loss: 0.1896 - val_loss: 0.2080\n",
            "Epoch 26/50\n",
            "6000/6000 [==============================] - 0s 64us/sample - loss: 0.1892 - val_loss: 0.2075\n",
            "Epoch 27/50\n",
            "6000/6000 [==============================] - 0s 65us/sample - loss: 0.1888 - val_loss: 0.2070\n",
            "Epoch 28/50\n",
            "6000/6000 [==============================] - 0s 67us/sample - loss: 0.1887 - val_loss: 0.2069\n",
            "Epoch 29/50\n",
            "6000/6000 [==============================] - 0s 66us/sample - loss: 0.1884 - val_loss: 0.2070\n",
            "Epoch 30/50\n",
            "6000/6000 [==============================] - 0s 67us/sample - loss: 0.1881 - val_loss: 0.2060\n",
            "Epoch 31/50\n",
            "6000/6000 [==============================] - 0s 64us/sample - loss: 0.1879 - val_loss: 0.2057\n",
            "Epoch 32/50\n",
            "6000/6000 [==============================] - 0s 66us/sample - loss: 0.1879 - val_loss: 0.2052\n",
            "Epoch 33/50\n",
            "6000/6000 [==============================] - 0s 67us/sample - loss: 0.1873 - val_loss: 0.2049\n",
            "Epoch 34/50\n",
            "6000/6000 [==============================] - 0s 66us/sample - loss: 0.1871 - val_loss: 0.2045\n",
            "Epoch 35/50\n",
            "6000/6000 [==============================] - 0s 69us/sample - loss: 0.1869 - val_loss: 0.2041\n",
            "Epoch 36/50\n",
            "6000/6000 [==============================] - 0s 66us/sample - loss: 0.1866 - val_loss: 0.2037\n",
            "Epoch 37/50\n",
            "6000/6000 [==============================] - 0s 69us/sample - loss: 0.1864 - val_loss: 0.2039\n",
            "Epoch 38/50\n",
            "6000/6000 [==============================] - 0s 69us/sample - loss: 0.1861 - val_loss: 0.2032\n",
            "Epoch 39/50\n",
            "6000/6000 [==============================] - 0s 65us/sample - loss: 0.1859 - val_loss: 0.2029\n",
            "Epoch 40/50\n",
            "6000/6000 [==============================] - 0s 67us/sample - loss: 0.1857 - val_loss: 0.2029\n",
            "Epoch 41/50\n",
            "6000/6000 [==============================] - 0s 65us/sample - loss: 0.1856 - val_loss: 0.2027\n",
            "Epoch 42/50\n",
            "6000/6000 [==============================] - 0s 67us/sample - loss: 0.1855 - val_loss: 0.2022\n",
            "Epoch 43/50\n",
            "6000/6000 [==============================] - 0s 68us/sample - loss: 0.1853 - val_loss: 0.2023\n",
            "Epoch 44/50\n",
            "6000/6000 [==============================] - 0s 65us/sample - loss: 0.1850 - val_loss: 0.2022\n",
            "Epoch 45/50\n",
            "6000/6000 [==============================] - 0s 70us/sample - loss: 0.1849 - val_loss: 0.2020\n",
            "Epoch 46/50\n",
            "6000/6000 [==============================] - 0s 64us/sample - loss: 0.1849 - val_loss: 0.2024\n",
            "Epoch 47/50\n",
            "6000/6000 [==============================] - 0s 66us/sample - loss: 0.1850 - val_loss: 0.2020\n",
            "Epoch 48/50\n",
            "6000/6000 [==============================] - 0s 69us/sample - loss: 0.1846 - val_loss: 0.2016\n",
            "Epoch 49/50\n",
            "6000/6000 [==============================] - 0s 66us/sample - loss: 0.1844 - val_loss: 0.2015\n",
            "Epoch 50/50\n",
            "6000/6000 [==============================] - 0s 65us/sample - loss: 0.1843 - val_loss: 0.2015\n"
          ]
        },
        {
          "output_type": "display_data",
          "data": {
            "image/png": "[encoded data removed]",
            "text/plain": [
              "<Figure size 432x288 with 1 Axes>"
            ]
          },
          "metadata": {
            "needs_background": "light"
          }
        },
        {
          "output_type": "stream",
          "name": "stderr",
          "text": [
            "/usr/local/lib/python3.7/dist-packages/keras/engine/training_v1.py:2079: UserWarning: `Model.state_updates` will be removed in a future version. This property should not be used in TensorFlow 2.0, as `updates` are applied automatically.\n",
            "  updates=self.state_updates,\n"
          ]
        }
      ],
      "source": [
        "X_pred_d_3 = deep_autoencoder(X_train_3,X_test_3,50)"
      ]
    },
    {
      "cell_type": "code",
      "execution_count": null,
      "metadata": {
        "id": "3Z2ilqbrKz6e"
      },
      "outputs": [],
      "source": [
        "# Measure the error between the reconstruction and the original image\n",
        "mse_d_3 = cal_mse(X_pred_d_3, X_test_3)"
      ]
    },
    {
      "cell_type": "code",
      "execution_count": null,
      "metadata": {
        "colab": {
          "base_uri": "https://localhost:8080/"
        },
        "id": "EFDj_HhLLlem",
        "outputId": "79daae8c-e013-4614-ef82-db608b7a53e2"
      },
      "outputs": [
        {
          "output_type": "stream",
          "name": "stdout",
          "text": [
            "[INFO] mse threshold: 0.05299977443757511\n",
            "[INFO] 50 outliers found\n"
          ]
        }
      ],
      "source": [
        "thresh_3 = np.quantile(mse_d_3, 1/(1+contam))\n",
        "idxs_3 = np.where(np.array(mse_d_3) >= thresh_3)[0]\n",
        "print(\"[INFO] mse threshold: {}\".format(thresh_3))\n",
        "print(\"[INFO] {} outliers found\".format(len(idxs_3)))"
      ]
    },
    {
      "cell_type": "code",
      "execution_count": null,
      "metadata": {
        "colab": {
          "base_uri": "https://localhost:8080/"
        },
        "id": "tPB2Nx9SLyCB",
        "outputId": "31796a04-042b-473d-e885-80d1987ca819"
      },
      "outputs": [
        {
          "output_type": "execute_result",
          "data": {
            "text/plain": [
              "array([1, 1, 1, ..., 7, 7, 7])"
            ]
          },
          "metadata": {},
          "execution_count": 301
        }
      ],
      "source": [
        "# Predicted Y\n",
        "Y_pred_3 = np.array([1]*len(Y_test_3))\n",
        "Y_pred_3[idxs_3] = 7\n",
        "Y_pred_3"
      ]
    },
    {
      "cell_type": "code",
      "execution_count": null,
      "metadata": {
        "colab": {
          "base_uri": "https://localhost:8080/"
        },
        "id": "xQYJYEjQL9TV",
        "outputId": "904ab2d6-2310-4c0f-ae05-f9020a7e889a"
      },
      "outputs": [
        {
          "output_type": "stream",
          "name": "stdout",
          "text": [
            "[[997   3]\n",
            " [  3  47]]\n",
            "              precision    recall  f1-score   support\n",
            "\n",
            "           1       1.00      1.00      1.00      1000\n",
            "           7       0.94      0.94      0.94        50\n",
            "\n",
            "    accuracy                           0.99      1050\n",
            "   macro avg       0.97      0.97      0.97      1050\n",
            "weighted avg       0.99      0.99      0.99      1050\n",
            "\n"
          ]
        }
      ],
      "source": [
        "print(confusion_matrix(Y_test_3, Y_pred_3))\n",
        "print(classification_report(Y_test_3, Y_pred_3))"
      ]
    },
    {
      "cell_type": "markdown",
      "metadata": {
        "id": "5qrUQOtrqp58"
      },
      "source": [
        "###Variational autoencoder"
      ]
    },
    {
      "cell_type": "code",
      "execution_count": null,
      "metadata": {
        "colab": {
          "base_uri": "https://localhost:8080/"
        },
        "id": "JxZ_21uGlMpb",
        "outputId": "e26e4ca2-8ad0-4f69-ba28-1d0ab021d155"
      },
      "outputs": [
        {
          "output_type": "stream",
          "name": "stdout",
          "text": [
            "Train on 6000 samples\n",
            "Epoch 1/32\n",
            "6000/6000 [==============================] - 1s 248us/sample - loss: 3510.1638\n",
            "Epoch 2/32\n",
            "6000/6000 [==============================] - 1s 240us/sample - loss: 1234.8481\n",
            "Epoch 3/32\n",
            "6000/6000 [==============================] - 1s 249us/sample - loss: 719.0267\n",
            "Epoch 4/32\n",
            "6000/6000 [==============================] - 1s 243us/sample - loss: 639.7662\n",
            "Epoch 5/32\n",
            "6000/6000 [==============================] - 1s 243us/sample - loss: 595.7783\n",
            "Epoch 6/32\n",
            "6000/6000 [==============================] - 1s 240us/sample - loss: 563.3362\n",
            "Epoch 7/32\n",
            "6000/6000 [==============================] - 1s 246us/sample - loss: 539.2737\n",
            "Epoch 8/32\n",
            "6000/6000 [==============================] - 1s 245us/sample - loss: 520.6773\n",
            "Epoch 9/32\n",
            "6000/6000 [==============================] - 1s 242us/sample - loss: 505.4305\n",
            "Epoch 10/32\n",
            "6000/6000 [==============================] - 1s 249us/sample - loss: 490.7772\n",
            "Epoch 11/32\n",
            "6000/6000 [==============================] - 2s 255us/sample - loss: 479.7608\n",
            "Epoch 12/32\n",
            "6000/6000 [==============================] - 2s 256us/sample - loss: 467.9764\n",
            "Epoch 13/32\n",
            "6000/6000 [==============================] - 2s 260us/sample - loss: 458.7121\n",
            "Epoch 14/32\n",
            "6000/6000 [==============================] - 2s 259us/sample - loss: 449.8902\n",
            "Epoch 15/32\n",
            "6000/6000 [==============================] - 1s 247us/sample - loss: 442.6550\n",
            "Epoch 16/32\n",
            "6000/6000 [==============================] - 1s 243us/sample - loss: 437.5894\n",
            "Epoch 17/32\n",
            "6000/6000 [==============================] - 1s 250us/sample - loss: 431.4029\n",
            "Epoch 18/32\n",
            "6000/6000 [==============================] - 1s 245us/sample - loss: 423.3206\n",
            "Epoch 19/32\n",
            "6000/6000 [==============================] - 1s 247us/sample - loss: 419.2587\n",
            "Epoch 20/32\n",
            "6000/6000 [==============================] - 1s 249us/sample - loss: 414.9152\n",
            "Epoch 21/32\n",
            "6000/6000 [==============================] - 1s 248us/sample - loss: 408.3550\n",
            "Epoch 22/32\n",
            "6000/6000 [==============================] - 1s 246us/sample - loss: 405.1224\n",
            "Epoch 23/32\n",
            "6000/6000 [==============================] - 1s 248us/sample - loss: 401.0316\n",
            "Epoch 24/32\n",
            "6000/6000 [==============================] - 1s 249us/sample - loss: 395.7317\n",
            "Epoch 25/32\n",
            "6000/6000 [==============================] - 2s 252us/sample - loss: 391.1044\n",
            "Epoch 26/32\n",
            "6000/6000 [==============================] - 1s 247us/sample - loss: 387.9056\n",
            "Epoch 27/32\n",
            "6000/6000 [==============================] - 1s 249us/sample - loss: 384.0241\n",
            "Epoch 28/32\n",
            "6000/6000 [==============================] - 1s 243us/sample - loss: 383.4355\n",
            "Epoch 29/32\n",
            "6000/6000 [==============================] - 1s 244us/sample - loss: 379.3607\n",
            "Epoch 30/32\n",
            "6000/6000 [==============================] - 1s 245us/sample - loss: 375.6212\n",
            "Epoch 31/32\n",
            "6000/6000 [==============================] - 1s 241us/sample - loss: 371.9006\n",
            "Epoch 32/32\n",
            "6000/6000 [==============================] - 1s 248us/sample - loss: 371.2011\n"
          ]
        }
      ],
      "source": [
        "#We use the variational autoencoder that we built before\n",
        "results_v_3 = vae_model.fit(X_train_3, X_train_3,\n",
        "                        shuffle=True,\n",
        "                        epochs=32,\n",
        "                        batch_size=100)"
      ]
    },
    {
      "cell_type": "code",
      "execution_count": null,
      "metadata": {
        "colab": {
          "base_uri": "https://localhost:8080/"
        },
        "id": "t0W-3v_tnDNK",
        "outputId": "fd1666cf-2b5e-4592-baf4-9ea7475441c6"
      },
      "outputs": [
        {
          "output_type": "display_data",
          "data": {
            "image/png": "[encoded data removed]",
            "text/plain": [
              "<Figure size 432x288 with 1 Axes>"
            ]
          },
          "metadata": {
            "needs_background": "light"
          }
        }
      ],
      "source": [
        "#Plot the trend of loss\n",
        "plt.plot(results_v_3.history['loss'])\n",
        "plt.title('model loss')\n",
        "plt.ylabel('loss')\n",
        "plt.xlabel('epoch')\n",
        "plt.legend(['train', 'test'], loc='upper right');\n",
        "plt.show()"
      ]
    },
    {
      "cell_type": "code",
      "execution_count": null,
      "metadata": {
        "id": "BmOhOaOvnIPL"
      },
      "outputs": [],
      "source": [
        "#Use the model trained to do prediction in test set\n",
        "X_pred_v_3 = vae_model.predict(X_test_3)"
      ]
    },
    {
      "cell_type": "code",
      "execution_count": null,
      "metadata": {
        "id": "Y4WF4vnmnUOK"
      },
      "outputs": [],
      "source": [
        "# Measure the error between the reconstruction and the original image\n",
        "mse_v_3 = cal_mse(X_pred_v_3, X_test_3) "
      ]
    },
    {
      "cell_type": "code",
      "execution_count": null,
      "metadata": {
        "colab": {
          "base_uri": "https://localhost:8080/"
        },
        "id": "vonYpCxFncZh",
        "outputId": "7e50f31d-ab0d-4830-a541-4bab45f76b30"
      },
      "outputs": [
        {
          "output_type": "stream",
          "name": "stdout",
          "text": [
            "[INFO] mse threshold: 0.02453395165503024\n",
            "[INFO] 50 outliers found\n"
          ]
        }
      ],
      "source": [
        "thresh_v_3 = np.quantile(mse_v_3, 1/(1+contam))\n",
        "idxs_v_3 = np.where(np.array(mse_v_3) >= thresh_v_3)[0]\n",
        "print(\"[INFO] mse threshold: {}\".format(thresh_v_3))\n",
        "print(\"[INFO] {} outliers found\".format(len(idxs_v_3)))"
      ]
    },
    {
      "cell_type": "code",
      "execution_count": null,
      "metadata": {
        "colab": {
          "base_uri": "https://localhost:8080/"
        },
        "id": "jycVDms-ns-C",
        "outputId": "29731586-bdfc-40e5-c04b-fc72786bc6d0"
      },
      "outputs": [
        {
          "output_type": "execute_result",
          "data": {
            "text/plain": [
              "array([1, 1, 1, ..., 7, 7, 7])"
            ]
          },
          "metadata": {},
          "execution_count": 308
        }
      ],
      "source": [
        "# Predicted Y\n",
        "Y_pred_v_3 = np.array([1]*len(Y_test_3))\n",
        "Y_pred_v_3[idxs_v_3] = 7\n",
        "Y_pred_v_3"
      ]
    },
    {
      "cell_type": "code",
      "execution_count": null,
      "metadata": {
        "colab": {
          "base_uri": "https://localhost:8080/"
        },
        "id": "6M07Sn1kn9bz",
        "outputId": "b9f5ce94-565f-4a19-902e-f5db979e2d34"
      },
      "outputs": [
        {
          "output_type": "stream",
          "name": "stdout",
          "text": [
            "[[994   6]\n",
            " [  6  44]]\n",
            "              precision    recall  f1-score   support\n",
            "\n",
            "           1       0.99      0.99      0.99      1000\n",
            "           7       0.88      0.88      0.88        50\n",
            "\n",
            "    accuracy                           0.99      1050\n",
            "   macro avg       0.94      0.94      0.94      1050\n",
            "weighted avg       0.99      0.99      0.99      1050\n",
            "\n"
          ]
        }
      ],
      "source": [
        "print(confusion_matrix(Y_test_3_, Y_pred_v_3))\n",
        "print(classification_report(Y_test_3_, Y_pred_v_3))"
      ]
    }
  ],
  "metadata": {
    "colab": {
      "collapsed_sections": [
        "sgJzipkX4UGH",
        "eLaxCvKaBfFQ",
        "yxHiGjSfdF11",
        "ewzCLnpAdewv",
        "Jo3Y8LuyKGsW",
        "5qrUQOtrqp58"
      ],
      "name": "Autoencoder-Anomalies_detection.ipynb",
      "provenance": []
    },
    "kernelspec": {
      "display_name": "Python 3",
      "name": "python3"
    },
    "language_info": {
      "name": "python"
    }
  },
  "nbformat": 4,
  "nbformat_minor": 0
}